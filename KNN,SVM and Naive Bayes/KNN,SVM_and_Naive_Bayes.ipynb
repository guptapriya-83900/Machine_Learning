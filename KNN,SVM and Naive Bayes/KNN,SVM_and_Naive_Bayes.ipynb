{
  "nbformat": 4,
  "nbformat_minor": 0,
  "metadata": {
    "colab": {
      "name": "KNN,SVM and Naive Bayes.ipynb",
      "provenance": [],
      "collapsed_sections": []
    },
    "kernelspec": {
      "name": "python3",
      "display_name": "Python 3"
    },
    "language_info": {
      "name": "python"
    }
  },
  "cells": [
    {
      "cell_type": "markdown",
      "metadata": {
        "id": "Qxa2MpLlLLD1"
      },
      "source": [
        "### Support Vector Machine(SVM)"
      ]
    },
    {
      "cell_type": "markdown",
      "metadata": {
        "id": "wYjUmGOCSqVo"
      },
      "source": [
        "Support Vector Machine(SVM): SVM are supervised machine learning models with associated learning algorithms that analyze data used for classification and regression analysis."
      ]
    },
    {
      "cell_type": "code",
      "metadata": {
        "id": "VAEJq9V8LMPr"
      },
      "source": [
        "import pandas as pd\n",
        "import numpy as np\n",
        "import seaborn as sns\n",
        "import matplotlib.pyplot as plt\n",
        "from sklearn.model_selection import train_test_split\n",
        "from sklearn.svm import SVC\n",
        "from sklearn.metrics import classification_report,confusion_matrix,accuracy_score"
      ],
      "execution_count": null,
      "outputs": []
    },
    {
      "cell_type": "code",
      "metadata": {
        "colab": {
          "base_uri": "https://localhost:8080/",
          "height": 204
        },
        "id": "5FLS-XEuLMYF",
        "outputId": "8d30caf6-12c9-43af-9ee2-c667d4885558"
      },
      "source": [
        "df_I=pd.read_csv(\"Iris.csv\")\n",
        "df_I.head()"
      ],
      "execution_count": null,
      "outputs": [
        {
          "output_type": "execute_result",
          "data": {
            "text/html": [
              "<div>\n",
              "<style scoped>\n",
              "    .dataframe tbody tr th:only-of-type {\n",
              "        vertical-align: middle;\n",
              "    }\n",
              "\n",
              "    .dataframe tbody tr th {\n",
              "        vertical-align: top;\n",
              "    }\n",
              "\n",
              "    .dataframe thead th {\n",
              "        text-align: right;\n",
              "    }\n",
              "</style>\n",
              "<table border=\"1\" class=\"dataframe\">\n",
              "  <thead>\n",
              "    <tr style=\"text-align: right;\">\n",
              "      <th></th>\n",
              "      <th>Id</th>\n",
              "      <th>SepalLengthCm</th>\n",
              "      <th>SepalWidthCm</th>\n",
              "      <th>PetalLengthCm</th>\n",
              "      <th>PetalWidthCm</th>\n",
              "      <th>Species</th>\n",
              "    </tr>\n",
              "  </thead>\n",
              "  <tbody>\n",
              "    <tr>\n",
              "      <th>0</th>\n",
              "      <td>1</td>\n",
              "      <td>5.1</td>\n",
              "      <td>3.5</td>\n",
              "      <td>1.4</td>\n",
              "      <td>0.2</td>\n",
              "      <td>Iris-setosa</td>\n",
              "    </tr>\n",
              "    <tr>\n",
              "      <th>1</th>\n",
              "      <td>2</td>\n",
              "      <td>4.9</td>\n",
              "      <td>3.0</td>\n",
              "      <td>1.4</td>\n",
              "      <td>0.2</td>\n",
              "      <td>Iris-setosa</td>\n",
              "    </tr>\n",
              "    <tr>\n",
              "      <th>2</th>\n",
              "      <td>3</td>\n",
              "      <td>4.7</td>\n",
              "      <td>3.2</td>\n",
              "      <td>1.3</td>\n",
              "      <td>0.2</td>\n",
              "      <td>Iris-setosa</td>\n",
              "    </tr>\n",
              "    <tr>\n",
              "      <th>3</th>\n",
              "      <td>4</td>\n",
              "      <td>4.6</td>\n",
              "      <td>3.1</td>\n",
              "      <td>1.5</td>\n",
              "      <td>0.2</td>\n",
              "      <td>Iris-setosa</td>\n",
              "    </tr>\n",
              "    <tr>\n",
              "      <th>4</th>\n",
              "      <td>5</td>\n",
              "      <td>5.0</td>\n",
              "      <td>3.6</td>\n",
              "      <td>1.4</td>\n",
              "      <td>0.2</td>\n",
              "      <td>Iris-setosa</td>\n",
              "    </tr>\n",
              "  </tbody>\n",
              "</table>\n",
              "</div>"
            ],
            "text/plain": [
              "   Id  SepalLengthCm  SepalWidthCm  PetalLengthCm  PetalWidthCm      Species\n",
              "0   1            5.1           3.5            1.4           0.2  Iris-setosa\n",
              "1   2            4.9           3.0            1.4           0.2  Iris-setosa\n",
              "2   3            4.7           3.2            1.3           0.2  Iris-setosa\n",
              "3   4            4.6           3.1            1.5           0.2  Iris-setosa\n",
              "4   5            5.0           3.6            1.4           0.2  Iris-setosa"
            ]
          },
          "metadata": {
            "tags": []
          },
          "execution_count": 2
        }
      ]
    },
    {
      "cell_type": "code",
      "metadata": {
        "colab": {
          "base_uri": "https://localhost:8080/"
        },
        "id": "MP3gibobLMfY",
        "outputId": "14a80b93-ed0e-42c1-ef37-1a85aa28c025"
      },
      "source": [
        "df_I.shape"
      ],
      "execution_count": null,
      "outputs": [
        {
          "output_type": "execute_result",
          "data": {
            "text/plain": [
              "(150, 6)"
            ]
          },
          "metadata": {
            "tags": []
          },
          "execution_count": 3
        }
      ]
    },
    {
      "cell_type": "code",
      "metadata": {
        "colab": {
          "base_uri": "https://localhost:8080/"
        },
        "id": "nMb_tz1aLMlC",
        "outputId": "44b653fe-3ff9-4a18-f067-2970df0c5ed7"
      },
      "source": [
        "df_I.keys()"
      ],
      "execution_count": null,
      "outputs": [
        {
          "output_type": "execute_result",
          "data": {
            "text/plain": [
              "Index(['Id', 'SepalLengthCm', 'SepalWidthCm', 'PetalLengthCm', 'PetalWidthCm',\n",
              "       'Species'],\n",
              "      dtype='object')"
            ]
          },
          "metadata": {
            "tags": []
          },
          "execution_count": 4
        }
      ]
    },
    {
      "cell_type": "code",
      "metadata": {
        "colab": {
          "base_uri": "https://localhost:8080/"
        },
        "id": "3kMWApC0LMpN",
        "outputId": "a5807ba2-42c6-4265-a750-5a654ffb54e3"
      },
      "source": [
        "df_I.info()"
      ],
      "execution_count": null,
      "outputs": [
        {
          "output_type": "stream",
          "text": [
            "<class 'pandas.core.frame.DataFrame'>\n",
            "RangeIndex: 150 entries, 0 to 149\n",
            "Data columns (total 6 columns):\n",
            " #   Column         Non-Null Count  Dtype  \n",
            "---  ------         --------------  -----  \n",
            " 0   Id             150 non-null    int64  \n",
            " 1   SepalLengthCm  150 non-null    float64\n",
            " 2   SepalWidthCm   150 non-null    float64\n",
            " 3   PetalLengthCm  150 non-null    float64\n",
            " 4   PetalWidthCm   150 non-null    float64\n",
            " 5   Species        150 non-null    object \n",
            "dtypes: float64(4), int64(1), object(1)\n",
            "memory usage: 7.2+ KB\n"
          ],
          "name": "stdout"
        }
      ]
    },
    {
      "cell_type": "code",
      "metadata": {
        "colab": {
          "base_uri": "https://localhost:8080/"
        },
        "id": "8gEEjEMncw1L",
        "outputId": "e88f3469-711a-4949-afa5-7927afae1e2e"
      },
      "source": [
        "df_I.isnull().sum()"
      ],
      "execution_count": null,
      "outputs": [
        {
          "output_type": "execute_result",
          "data": {
            "text/plain": [
              "Id               0\n",
              "SepalLengthCm    0\n",
              "SepalWidthCm     0\n",
              "PetalLengthCm    0\n",
              "PetalWidthCm     0\n",
              "Species          0\n",
              "dtype: int64"
            ]
          },
          "metadata": {
            "tags": []
          },
          "execution_count": 6
        }
      ]
    },
    {
      "cell_type": "code",
      "metadata": {
        "id": "OgaCHJ41dBi7",
        "colab": {
          "base_uri": "https://localhost:8080/"
        },
        "outputId": "524d2243-ff61-4cb6-a557-8c7f66ae64e3"
      },
      "source": [
        "for cols in df_I.columns:\n",
        "  print(df_I[cols].value_counts())"
      ],
      "execution_count": null,
      "outputs": [
        {
          "output_type": "stream",
          "text": [
            "150    1\n",
            "56     1\n",
            "54     1\n",
            "53     1\n",
            "52     1\n",
            "      ..\n",
            "100    1\n",
            "99     1\n",
            "98     1\n",
            "97     1\n",
            "1      1\n",
            "Name: Id, Length: 150, dtype: int64\n",
            "5.0    10\n",
            "6.3     9\n",
            "5.1     9\n",
            "6.7     8\n",
            "5.7     8\n",
            "5.5     7\n",
            "5.8     7\n",
            "6.4     7\n",
            "6.0     6\n",
            "4.9     6\n",
            "6.1     6\n",
            "5.4     6\n",
            "5.6     6\n",
            "6.5     5\n",
            "4.8     5\n",
            "7.7     4\n",
            "6.9     4\n",
            "5.2     4\n",
            "6.2     4\n",
            "4.6     4\n",
            "7.2     3\n",
            "6.8     3\n",
            "4.4     3\n",
            "5.9     3\n",
            "6.6     2\n",
            "4.7     2\n",
            "7.6     1\n",
            "7.4     1\n",
            "4.3     1\n",
            "7.9     1\n",
            "7.3     1\n",
            "7.0     1\n",
            "4.5     1\n",
            "5.3     1\n",
            "7.1     1\n",
            "Name: SepalLengthCm, dtype: int64\n",
            "3.0    26\n",
            "2.8    14\n",
            "3.2    13\n",
            "3.4    12\n",
            "3.1    12\n",
            "2.9    10\n",
            "2.7     9\n",
            "2.5     8\n",
            "3.5     6\n",
            "3.8     6\n",
            "3.3     6\n",
            "2.6     5\n",
            "2.3     4\n",
            "3.6     3\n",
            "2.4     3\n",
            "2.2     3\n",
            "3.7     3\n",
            "3.9     2\n",
            "4.2     1\n",
            "4.1     1\n",
            "4.4     1\n",
            "2.0     1\n",
            "4.0     1\n",
            "Name: SepalWidthCm, dtype: int64\n",
            "1.5    14\n",
            "1.4    12\n",
            "5.1     8\n",
            "4.5     8\n",
            "1.3     7\n",
            "1.6     7\n",
            "5.6     6\n",
            "4.0     5\n",
            "4.9     5\n",
            "4.7     5\n",
            "4.8     4\n",
            "1.7     4\n",
            "4.4     4\n",
            "4.2     4\n",
            "5.0     4\n",
            "4.1     3\n",
            "5.5     3\n",
            "4.6     3\n",
            "6.1     3\n",
            "5.7     3\n",
            "3.9     3\n",
            "5.8     3\n",
            "1.2     2\n",
            "1.9     2\n",
            "6.7     2\n",
            "3.5     2\n",
            "5.9     2\n",
            "6.0     2\n",
            "5.4     2\n",
            "5.3     2\n",
            "3.3     2\n",
            "4.3     2\n",
            "5.2     2\n",
            "6.3     1\n",
            "1.1     1\n",
            "6.4     1\n",
            "3.6     1\n",
            "3.7     1\n",
            "3.0     1\n",
            "3.8     1\n",
            "6.6     1\n",
            "6.9     1\n",
            "1.0     1\n",
            "Name: PetalLengthCm, dtype: int64\n",
            "0.2    28\n",
            "1.3    13\n",
            "1.5    12\n",
            "1.8    12\n",
            "1.4     8\n",
            "2.3     8\n",
            "1.0     7\n",
            "0.3     7\n",
            "0.4     7\n",
            "0.1     6\n",
            "2.0     6\n",
            "2.1     6\n",
            "1.2     5\n",
            "1.9     5\n",
            "1.6     4\n",
            "2.5     3\n",
            "2.2     3\n",
            "2.4     3\n",
            "1.1     3\n",
            "1.7     2\n",
            "0.6     1\n",
            "0.5     1\n",
            "Name: PetalWidthCm, dtype: int64\n",
            "Iris-versicolor    50\n",
            "Iris-setosa        50\n",
            "Iris-virginica     50\n",
            "Name: Species, dtype: int64\n"
          ],
          "name": "stdout"
        }
      ]
    },
    {
      "cell_type": "code",
      "metadata": {
        "id": "rT6ljFseLMtm"
      },
      "source": [
        "from sklearn.preprocessing import LabelEncoder\n",
        "d_types=dict(df_I.dtypes)\n",
        "\n",
        "for name,type_ in d_types.items():\n",
        "  if str(type_) == \"object\":\n",
        "    le=LabelEncoder()\n",
        "    df_I[name]=le.fit_transform(df_I[name])"
      ],
      "execution_count": null,
      "outputs": []
    },
    {
      "cell_type": "code",
      "metadata": {
        "colab": {
          "base_uri": "https://localhost:8080/"
        },
        "id": "7h-3Okb7jdva",
        "outputId": "e41e1d3e-d017-480f-c1ba-673da2e06597"
      },
      "source": [
        "df_I.info()"
      ],
      "execution_count": null,
      "outputs": [
        {
          "output_type": "stream",
          "text": [
            "<class 'pandas.core.frame.DataFrame'>\n",
            "RangeIndex: 150 entries, 0 to 149\n",
            "Data columns (total 6 columns):\n",
            " #   Column         Non-Null Count  Dtype  \n",
            "---  ------         --------------  -----  \n",
            " 0   Id             150 non-null    int64  \n",
            " 1   SepalLengthCm  150 non-null    float64\n",
            " 2   SepalWidthCm   150 non-null    float64\n",
            " 3   PetalLengthCm  150 non-null    float64\n",
            " 4   PetalWidthCm   150 non-null    float64\n",
            " 5   Species        150 non-null    int64  \n",
            "dtypes: float64(4), int64(2)\n",
            "memory usage: 7.2 KB\n"
          ],
          "name": "stdout"
        }
      ]
    },
    {
      "cell_type": "code",
      "metadata": {
        "id": "WzHXg0fbLMxD"
      },
      "source": [
        "X=df_I.drop([\"Species\"],axis=1)\n",
        "Y=df_I[\"Species\"]"
      ],
      "execution_count": null,
      "outputs": []
    },
    {
      "cell_type": "code",
      "metadata": {
        "colab": {
          "base_uri": "https://localhost:8080/",
          "height": 204
        },
        "id": "xmqFHj7TjCIW",
        "outputId": "dcc8bb47-82b0-48d6-9b2e-c64d3f85a8ce"
      },
      "source": [
        "X.head()"
      ],
      "execution_count": null,
      "outputs": [
        {
          "output_type": "execute_result",
          "data": {
            "text/html": [
              "<div>\n",
              "<style scoped>\n",
              "    .dataframe tbody tr th:only-of-type {\n",
              "        vertical-align: middle;\n",
              "    }\n",
              "\n",
              "    .dataframe tbody tr th {\n",
              "        vertical-align: top;\n",
              "    }\n",
              "\n",
              "    .dataframe thead th {\n",
              "        text-align: right;\n",
              "    }\n",
              "</style>\n",
              "<table border=\"1\" class=\"dataframe\">\n",
              "  <thead>\n",
              "    <tr style=\"text-align: right;\">\n",
              "      <th></th>\n",
              "      <th>Id</th>\n",
              "      <th>SepalLengthCm</th>\n",
              "      <th>SepalWidthCm</th>\n",
              "      <th>PetalLengthCm</th>\n",
              "      <th>PetalWidthCm</th>\n",
              "    </tr>\n",
              "  </thead>\n",
              "  <tbody>\n",
              "    <tr>\n",
              "      <th>0</th>\n",
              "      <td>1</td>\n",
              "      <td>5.1</td>\n",
              "      <td>3.5</td>\n",
              "      <td>1.4</td>\n",
              "      <td>0.2</td>\n",
              "    </tr>\n",
              "    <tr>\n",
              "      <th>1</th>\n",
              "      <td>2</td>\n",
              "      <td>4.9</td>\n",
              "      <td>3.0</td>\n",
              "      <td>1.4</td>\n",
              "      <td>0.2</td>\n",
              "    </tr>\n",
              "    <tr>\n",
              "      <th>2</th>\n",
              "      <td>3</td>\n",
              "      <td>4.7</td>\n",
              "      <td>3.2</td>\n",
              "      <td>1.3</td>\n",
              "      <td>0.2</td>\n",
              "    </tr>\n",
              "    <tr>\n",
              "      <th>3</th>\n",
              "      <td>4</td>\n",
              "      <td>4.6</td>\n",
              "      <td>3.1</td>\n",
              "      <td>1.5</td>\n",
              "      <td>0.2</td>\n",
              "    </tr>\n",
              "    <tr>\n",
              "      <th>4</th>\n",
              "      <td>5</td>\n",
              "      <td>5.0</td>\n",
              "      <td>3.6</td>\n",
              "      <td>1.4</td>\n",
              "      <td>0.2</td>\n",
              "    </tr>\n",
              "  </tbody>\n",
              "</table>\n",
              "</div>"
            ],
            "text/plain": [
              "   Id  SepalLengthCm  SepalWidthCm  PetalLengthCm  PetalWidthCm\n",
              "0   1            5.1           3.5            1.4           0.2\n",
              "1   2            4.9           3.0            1.4           0.2\n",
              "2   3            4.7           3.2            1.3           0.2\n",
              "3   4            4.6           3.1            1.5           0.2\n",
              "4   5            5.0           3.6            1.4           0.2"
            ]
          },
          "metadata": {
            "tags": []
          },
          "execution_count": 11
        }
      ]
    },
    {
      "cell_type": "code",
      "metadata": {
        "colab": {
          "base_uri": "https://localhost:8080/"
        },
        "id": "t4WWRQ4-jEQi",
        "outputId": "6d68ade0-a3d6-426a-fa11-128cc734c53d"
      },
      "source": [
        "Y.head()"
      ],
      "execution_count": null,
      "outputs": [
        {
          "output_type": "execute_result",
          "data": {
            "text/plain": [
              "0    0\n",
              "1    0\n",
              "2    0\n",
              "3    0\n",
              "4    0\n",
              "Name: Species, dtype: int64"
            ]
          },
          "metadata": {
            "tags": []
          },
          "execution_count": 12
        }
      ]
    },
    {
      "cell_type": "code",
      "metadata": {
        "id": "iaHYaai_jqwC"
      },
      "source": [
        "X_train,X_test,y_train,y_test=train_test_split(X,Y,test_size=0.25)"
      ],
      "execution_count": null,
      "outputs": []
    },
    {
      "cell_type": "code",
      "metadata": {
        "colab": {
          "base_uri": "https://localhost:8080/"
        },
        "id": "FzP_G_mGj0BA",
        "outputId": "efe1b396-ff1b-4d59-f76e-88c0882897e4"
      },
      "source": [
        "print(X_train.shape)\n",
        "print(X_test.shape)\n",
        "print(y_train.shape)\n",
        "print(y_test.shape)"
      ],
      "execution_count": null,
      "outputs": [
        {
          "output_type": "stream",
          "text": [
            "(112, 5)\n",
            "(38, 5)\n",
            "(112,)\n",
            "(38,)\n"
          ],
          "name": "stdout"
        }
      ]
    },
    {
      "cell_type": "code",
      "metadata": {
        "id": "MNQwPL11kHh_"
      },
      "source": [
        "#linear svm model\n",
        "svc_clf=SVC(kernel=\"linear\")\n",
        "svc_clf.fit(X_train,y_train)\n",
        "y_pred=svc_clf.predict(X_test)"
      ],
      "execution_count": null,
      "outputs": []
    },
    {
      "cell_type": "code",
      "metadata": {
        "colab": {
          "base_uri": "https://localhost:8080/"
        },
        "id": "4U9lJIvLkwfu",
        "outputId": "5f43aed9-e4eb-4e6f-a3f1-de3303fb48da"
      },
      "source": [
        "y_pred"
      ],
      "execution_count": null,
      "outputs": [
        {
          "output_type": "execute_result",
          "data": {
            "text/plain": [
              "array([0, 2, 1, 0, 2, 1, 2, 0, 0, 0, 2, 2, 2, 1, 2, 0, 1, 1, 2, 2, 0, 0,\n",
              "       1, 1, 1, 0, 0, 1, 0, 1, 0, 2, 2, 1, 2, 2, 0, 1])"
            ]
          },
          "metadata": {
            "tags": []
          },
          "execution_count": 16
        }
      ]
    },
    {
      "cell_type": "code",
      "metadata": {
        "colab": {
          "base_uri": "https://localhost:8080/",
          "height": 204
        },
        "id": "a57jo9mIklSl",
        "outputId": "75ec64c3-cd98-4217-9980-b9c0a57f1b0c"
      },
      "source": [
        "df = pd.DataFrame({'Actual': y_test, 'Predicted': y_pred})  \n",
        "df.head()"
      ],
      "execution_count": null,
      "outputs": [
        {
          "output_type": "execute_result",
          "data": {
            "text/html": [
              "<div>\n",
              "<style scoped>\n",
              "    .dataframe tbody tr th:only-of-type {\n",
              "        vertical-align: middle;\n",
              "    }\n",
              "\n",
              "    .dataframe tbody tr th {\n",
              "        vertical-align: top;\n",
              "    }\n",
              "\n",
              "    .dataframe thead th {\n",
              "        text-align: right;\n",
              "    }\n",
              "</style>\n",
              "<table border=\"1\" class=\"dataframe\">\n",
              "  <thead>\n",
              "    <tr style=\"text-align: right;\">\n",
              "      <th></th>\n",
              "      <th>Actual</th>\n",
              "      <th>Predicted</th>\n",
              "    </tr>\n",
              "  </thead>\n",
              "  <tbody>\n",
              "    <tr>\n",
              "      <th>25</th>\n",
              "      <td>0</td>\n",
              "      <td>0</td>\n",
              "    </tr>\n",
              "    <tr>\n",
              "      <th>110</th>\n",
              "      <td>2</td>\n",
              "      <td>2</td>\n",
              "    </tr>\n",
              "    <tr>\n",
              "      <th>55</th>\n",
              "      <td>1</td>\n",
              "      <td>1</td>\n",
              "    </tr>\n",
              "    <tr>\n",
              "      <th>3</th>\n",
              "      <td>0</td>\n",
              "      <td>0</td>\n",
              "    </tr>\n",
              "    <tr>\n",
              "      <th>104</th>\n",
              "      <td>2</td>\n",
              "      <td>2</td>\n",
              "    </tr>\n",
              "  </tbody>\n",
              "</table>\n",
              "</div>"
            ],
            "text/plain": [
              "     Actual  Predicted\n",
              "25        0          0\n",
              "110       2          2\n",
              "55        1          1\n",
              "3         0          0\n",
              "104       2          2"
            ]
          },
          "metadata": {
            "tags": []
          },
          "execution_count": 17
        }
      ]
    },
    {
      "cell_type": "code",
      "metadata": {
        "colab": {
          "base_uri": "https://localhost:8080/",
          "height": 316
        },
        "id": "gxnRcdBQk_t_",
        "outputId": "5fedbd89-b404-4923-a0f3-78e8597b77c4"
      },
      "source": [
        "cm=confusion_matrix(y_pred,y_test)\n",
        "sns.heatmap(cm,annot=True)\n",
        "print(cm)"
      ],
      "execution_count": null,
      "outputs": [
        {
          "output_type": "stream",
          "text": [
            "[[13  0  0]\n",
            " [ 0 12  0]\n",
            " [ 0  0 13]]\n"
          ],
          "name": "stdout"
        },
        {
          "output_type": "display_data",
          "data": {
            "image/png": "[encoded data removed]",
            "text/plain": [
              "<Figure size 432x288 with 2 Axes>"
            ]
          },
          "metadata": {
            "tags": [],
            "needs_background": "light"
          }
        }
      ]
    },
    {
      "cell_type": "code",
      "metadata": {
        "colab": {
          "base_uri": "https://localhost:8080/"
        },
        "id": "bshknUpXl8Gy",
        "outputId": "1ef22e00-2b3f-482a-ae10-42a21673adb7"
      },
      "source": [
        "print(accuracy_score(y_pred,y_test))\n",
        "print(classification_report(y_pred,y_test))"
      ],
      "execution_count": null,
      "outputs": [
        {
          "output_type": "stream",
          "text": [
            "1.0\n",
            "              precision    recall  f1-score   support\n",
            "\n",
            "           0       1.00      1.00      1.00        13\n",
            "           1       1.00      1.00      1.00        12\n",
            "           2       1.00      1.00      1.00        13\n",
            "\n",
            "    accuracy                           1.00        38\n",
            "   macro avg       1.00      1.00      1.00        38\n",
            "weighted avg       1.00      1.00      1.00        38\n",
            "\n"
          ],
          "name": "stdout"
        }
      ]
    },
    {
      "cell_type": "code",
      "metadata": {
        "id": "BFow9S07mb3O"
      },
      "source": [
        "#rbf svm model\n",
        "svc_clf_rbf=SVC(kernel=\"rbf\")\n",
        "svc_clf_rbf.fit(X_train,y_train)\n",
        "y_pred=svc_clf_rbf.predict(X_test)"
      ],
      "execution_count": null,
      "outputs": []
    },
    {
      "cell_type": "code",
      "metadata": {
        "colab": {
          "base_uri": "https://localhost:8080/",
          "height": 316
        },
        "id": "_4ZGrBVJmimG",
        "outputId": "9d425747-fbeb-4f5f-a920-8aac120604bc"
      },
      "source": [
        "cm=confusion_matrix(y_pred,y_test)\n",
        "sns.heatmap(cm,annot=True)\n",
        "print(cm)"
      ],
      "execution_count": null,
      "outputs": [
        {
          "output_type": "stream",
          "text": [
            "[[13  0  0]\n",
            " [ 0 12  0]\n",
            " [ 0  0 13]]\n"
          ],
          "name": "stdout"
        },
        {
          "output_type": "display_data",
          "data": {
            "image/png": "[encoded data removed]",
            "text/plain": [
              "<Figure size 432x288 with 2 Axes>"
            ]
          },
          "metadata": {
            "tags": [],
            "needs_background": "light"
          }
        }
      ]
    },
    {
      "cell_type": "code",
      "metadata": {
        "colab": {
          "base_uri": "https://localhost:8080/"
        },
        "id": "n1enTjH5mkdd",
        "outputId": "7c9fdc13-d953-4577-aa1a-71c47785bfc8"
      },
      "source": [
        "print(accuracy_score(y_pred,y_test))\n",
        "print(classification_report(y_pred,y_test))"
      ],
      "execution_count": null,
      "outputs": [
        {
          "output_type": "stream",
          "text": [
            "1.0\n",
            "              precision    recall  f1-score   support\n",
            "\n",
            "           0       1.00      1.00      1.00        13\n",
            "           1       1.00      1.00      1.00        12\n",
            "           2       1.00      1.00      1.00        13\n",
            "\n",
            "    accuracy                           1.00        38\n",
            "   macro avg       1.00      1.00      1.00        38\n",
            "weighted avg       1.00      1.00      1.00        38\n",
            "\n"
          ],
          "name": "stdout"
        }
      ]
    },
    {
      "cell_type": "markdown",
      "metadata": {
        "id": "4ITTS6aKSkV4"
      },
      "source": [
        "### KNN"
      ]
    },
    {
      "cell_type": "markdown",
      "metadata": {
        "id": "JpiSqhb5iqKs"
      },
      "source": [
        "KNN: KNN is a supervised learning algorithm that can be used to solve both classfication and regression problem.\n",
        "The KNN algorithm assumes that similar things exist in close proximity. In other words similar things are near to each other.\n",
        "\n",
        "Two main Properties:\n",
        "\n",
        "1. KNN is a lazy learning algorithm because it does not have a specialized training phases and uses all the data for training while classification.\n",
        "2.KNN is also a non-parametric learning algorithm because it doesn't assume anything about the underlying data\n",
        "\n",
        "KNN algorithm uses feature similarity to predict the values of new data points, which means that the new data point will be assigned a value based on how closely it matches with the training set points.\n",
        "\n",
        "Steps:\n",
        "1. Load the dataset\n",
        "2. Initialize k to youe chosen number of neighbors\n",
        "3. For each example in the data:\n",
        "    3.1 Calculate the distance between the query example and the current example from the data.\n",
        "    3.2 Add the distance and index of the example to an ordered collection\n",
        "4. Sort the ordered collection of distances and indices from smallest to largest by the distances\n",
        "5. Pick the first K entries from the sorted collection.\n",
        "6. Get the labels of the selected K entries.\n",
        "7. If regression, then return the mean of the K labels.\n",
        "8. If classification, then return the mode of the K labels.\n"
      ]
    },
    {
      "cell_type": "code",
      "metadata": {
        "id": "AwfBf2hRSnA4",
        "colab": {
          "base_uri": "https://localhost:8080/",
          "height": 204
        },
        "outputId": "813c0693-4d6e-4f45-faa7-0a0c1d1749d7"
      },
      "source": [
        "df_I=pd.read_csv(\"Iris.csv\")\n",
        "df_I.head()"
      ],
      "execution_count": null,
      "outputs": [
        {
          "output_type": "execute_result",
          "data": {
            "text/html": [
              "<div>\n",
              "<style scoped>\n",
              "    .dataframe tbody tr th:only-of-type {\n",
              "        vertical-align: middle;\n",
              "    }\n",
              "\n",
              "    .dataframe tbody tr th {\n",
              "        vertical-align: top;\n",
              "    }\n",
              "\n",
              "    .dataframe thead th {\n",
              "        text-align: right;\n",
              "    }\n",
              "</style>\n",
              "<table border=\"1\" class=\"dataframe\">\n",
              "  <thead>\n",
              "    <tr style=\"text-align: right;\">\n",
              "      <th></th>\n",
              "      <th>Id</th>\n",
              "      <th>SepalLengthCm</th>\n",
              "      <th>SepalWidthCm</th>\n",
              "      <th>PetalLengthCm</th>\n",
              "      <th>PetalWidthCm</th>\n",
              "      <th>Species</th>\n",
              "    </tr>\n",
              "  </thead>\n",
              "  <tbody>\n",
              "    <tr>\n",
              "      <th>0</th>\n",
              "      <td>1</td>\n",
              "      <td>5.1</td>\n",
              "      <td>3.5</td>\n",
              "      <td>1.4</td>\n",
              "      <td>0.2</td>\n",
              "      <td>Iris-setosa</td>\n",
              "    </tr>\n",
              "    <tr>\n",
              "      <th>1</th>\n",
              "      <td>2</td>\n",
              "      <td>4.9</td>\n",
              "      <td>3.0</td>\n",
              "      <td>1.4</td>\n",
              "      <td>0.2</td>\n",
              "      <td>Iris-setosa</td>\n",
              "    </tr>\n",
              "    <tr>\n",
              "      <th>2</th>\n",
              "      <td>3</td>\n",
              "      <td>4.7</td>\n",
              "      <td>3.2</td>\n",
              "      <td>1.3</td>\n",
              "      <td>0.2</td>\n",
              "      <td>Iris-setosa</td>\n",
              "    </tr>\n",
              "    <tr>\n",
              "      <th>3</th>\n",
              "      <td>4</td>\n",
              "      <td>4.6</td>\n",
              "      <td>3.1</td>\n",
              "      <td>1.5</td>\n",
              "      <td>0.2</td>\n",
              "      <td>Iris-setosa</td>\n",
              "    </tr>\n",
              "    <tr>\n",
              "      <th>4</th>\n",
              "      <td>5</td>\n",
              "      <td>5.0</td>\n",
              "      <td>3.6</td>\n",
              "      <td>1.4</td>\n",
              "      <td>0.2</td>\n",
              "      <td>Iris-setosa</td>\n",
              "    </tr>\n",
              "  </tbody>\n",
              "</table>\n",
              "</div>"
            ],
            "text/plain": [
              "   Id  SepalLengthCm  SepalWidthCm  PetalLengthCm  PetalWidthCm      Species\n",
              "0   1            5.1           3.5            1.4           0.2  Iris-setosa\n",
              "1   2            4.9           3.0            1.4           0.2  Iris-setosa\n",
              "2   3            4.7           3.2            1.3           0.2  Iris-setosa\n",
              "3   4            4.6           3.1            1.5           0.2  Iris-setosa\n",
              "4   5            5.0           3.6            1.4           0.2  Iris-setosa"
            ]
          },
          "metadata": {
            "tags": []
          },
          "execution_count": 23
        }
      ]
    },
    {
      "cell_type": "code",
      "metadata": {
        "id": "d4RRftSESnIY"
      },
      "source": [
        "from sklearn.preprocessing import LabelEncoder\n",
        "d_types=dict(df_I.dtypes)\n",
        "\n",
        "for name,type_ in d_types.items():\n",
        "  if str(type_) == \"object\":\n",
        "    le=LabelEncoder()\n",
        "    df_I[name]=le.fit_transform(df_I[name])"
      ],
      "execution_count": null,
      "outputs": []
    },
    {
      "cell_type": "code",
      "metadata": {
        "id": "i9iwZ8GWSnLV"
      },
      "source": [
        "X=df_I.drop([\"Species\"],axis=1)\n",
        "Y=df_I[\"Species\"]"
      ],
      "execution_count": null,
      "outputs": []
    },
    {
      "cell_type": "code",
      "metadata": {
        "id": "jkD8iW05SnR5"
      },
      "source": [
        "X_train,X_test,y_train,y_test=train_test_split(X,Y,test_size=0.25)"
      ],
      "execution_count": null,
      "outputs": []
    },
    {
      "cell_type": "code",
      "metadata": {
        "id": "EOuhnRToi2z4"
      },
      "source": [
        "from sklearn.neighbors import KNeighborsClassifier\n",
        "clf=KNeighborsClassifier(n_neighbors=1)\n",
        "clf.fit(X_train,y_train)\n",
        "y_pred_1=clf.predict(X_test)"
      ],
      "execution_count": null,
      "outputs": []
    },
    {
      "cell_type": "code",
      "metadata": {
        "colab": {
          "base_uri": "https://localhost:8080/"
        },
        "id": "ThCfQ2dEj0Gt",
        "outputId": "5ebb9d3f-aa61-447c-9aa0-93c62cd87b4e"
      },
      "source": [
        "y_pred_1"
      ],
      "execution_count": null,
      "outputs": [
        {
          "output_type": "execute_result",
          "data": {
            "text/plain": [
              "array([1, 2, 1, 2, 2, 2, 1, 1, 0, 0, 2, 0, 1, 1, 0, 2, 2, 1, 2, 0, 1, 1,\n",
              "       0, 0, 1, 0, 2, 0, 1, 2, 2, 2, 0, 2, 1, 0, 0, 1])"
            ]
          },
          "metadata": {
            "tags": []
          },
          "execution_count": 28
        }
      ]
    },
    {
      "cell_type": "code",
      "metadata": {
        "colab": {
          "base_uri": "https://localhost:8080/",
          "height": 282
        },
        "id": "8OWJpkz_jyb0",
        "outputId": "e2f58993-9b1f-46e7-e311-1b434fcc7dda"
      },
      "source": [
        "cm_1=confusion_matrix(y_pred_1,y_test)\n",
        "sns.heatmap(cm_1,annot=True)"
      ],
      "execution_count": null,
      "outputs": [
        {
          "output_type": "execute_result",
          "data": {
            "text/plain": [
              "<matplotlib.axes._subplots.AxesSubplot at 0x7f46c0778c50>"
            ]
          },
          "metadata": {
            "tags": []
          },
          "execution_count": 29
        },
        {
          "output_type": "display_data",
          "data": {
            "image/png": "[encoded data removed]",
            "text/plain": [
              "<Figure size 432x288 with 2 Axes>"
            ]
          },
          "metadata": {
            "tags": [],
            "needs_background": "light"
          }
        }
      ]
    },
    {
      "cell_type": "code",
      "metadata": {
        "colab": {
          "base_uri": "https://localhost:8080/"
        },
        "id": "ofjDpOy3lBMv",
        "outputId": "b163867a-acf9-41c3-f3a9-8418f9475734"
      },
      "source": [
        "print(accuracy_score(y_pred_1,y_test))\n",
        "print(classification_report(y_pred_1,y_test))"
      ],
      "execution_count": null,
      "outputs": [
        {
          "output_type": "stream",
          "text": [
            "1.0\n",
            "              precision    recall  f1-score   support\n",
            "\n",
            "           0       1.00      1.00      1.00        12\n",
            "           1       1.00      1.00      1.00        13\n",
            "           2       1.00      1.00      1.00        13\n",
            "\n",
            "    accuracy                           1.00        38\n",
            "   macro avg       1.00      1.00      1.00        38\n",
            "weighted avg       1.00      1.00      1.00        38\n",
            "\n"
          ],
          "name": "stdout"
        }
      ]
    },
    {
      "cell_type": "markdown",
      "metadata": {
        "id": "9gJCwm3vlSsu"
      },
      "source": [
        "## Naive Bayes"
      ]
    },
    {
      "cell_type": "markdown",
      "metadata": {
        "id": "CctChhaKlWoM"
      },
      "source": [
        "Naive Bayes is a supervised machine learning Algorithm that uses the Bayes theorem, which assumes that features are statistically independent.\n",
        "\n",
        "The theorem relies on the naive assumption that input variables are independent of each other i.e. there is no way to know anything about other variables when given an additional variable.\n",
        "\n",
        "Bayes Theroem: Bayes theorem is a theorem based on conditional probability or in a simple terms, the likelihood that an event A will happen given that event B has already happened."
      ]
    },
    {
      "cell_type": "code",
      "metadata": {
        "colab": {
          "base_uri": "https://localhost:8080/",
          "height": 204
        },
        "id": "FdjHxeMlptXN",
        "outputId": "9741db8c-34fc-48ff-82d3-b7ec0a2ab6e5"
      },
      "source": [
        "df_I=pd.read_csv(\"Iris.csv\")\n",
        "df_I.head()"
      ],
      "execution_count": null,
      "outputs": [
        {
          "output_type": "execute_result",
          "data": {
            "text/html": [
              "<div>\n",
              "<style scoped>\n",
              "    .dataframe tbody tr th:only-of-type {\n",
              "        vertical-align: middle;\n",
              "    }\n",
              "\n",
              "    .dataframe tbody tr th {\n",
              "        vertical-align: top;\n",
              "    }\n",
              "\n",
              "    .dataframe thead th {\n",
              "        text-align: right;\n",
              "    }\n",
              "</style>\n",
              "<table border=\"1\" class=\"dataframe\">\n",
              "  <thead>\n",
              "    <tr style=\"text-align: right;\">\n",
              "      <th></th>\n",
              "      <th>Id</th>\n",
              "      <th>SepalLengthCm</th>\n",
              "      <th>SepalWidthCm</th>\n",
              "      <th>PetalLengthCm</th>\n",
              "      <th>PetalWidthCm</th>\n",
              "      <th>Species</th>\n",
              "    </tr>\n",
              "  </thead>\n",
              "  <tbody>\n",
              "    <tr>\n",
              "      <th>0</th>\n",
              "      <td>1</td>\n",
              "      <td>5.1</td>\n",
              "      <td>3.5</td>\n",
              "      <td>1.4</td>\n",
              "      <td>0.2</td>\n",
              "      <td>Iris-setosa</td>\n",
              "    </tr>\n",
              "    <tr>\n",
              "      <th>1</th>\n",
              "      <td>2</td>\n",
              "      <td>4.9</td>\n",
              "      <td>3.0</td>\n",
              "      <td>1.4</td>\n",
              "      <td>0.2</td>\n",
              "      <td>Iris-setosa</td>\n",
              "    </tr>\n",
              "    <tr>\n",
              "      <th>2</th>\n",
              "      <td>3</td>\n",
              "      <td>4.7</td>\n",
              "      <td>3.2</td>\n",
              "      <td>1.3</td>\n",
              "      <td>0.2</td>\n",
              "      <td>Iris-setosa</td>\n",
              "    </tr>\n",
              "    <tr>\n",
              "      <th>3</th>\n",
              "      <td>4</td>\n",
              "      <td>4.6</td>\n",
              "      <td>3.1</td>\n",
              "      <td>1.5</td>\n",
              "      <td>0.2</td>\n",
              "      <td>Iris-setosa</td>\n",
              "    </tr>\n",
              "    <tr>\n",
              "      <th>4</th>\n",
              "      <td>5</td>\n",
              "      <td>5.0</td>\n",
              "      <td>3.6</td>\n",
              "      <td>1.4</td>\n",
              "      <td>0.2</td>\n",
              "      <td>Iris-setosa</td>\n",
              "    </tr>\n",
              "  </tbody>\n",
              "</table>\n",
              "</div>"
            ],
            "text/plain": [
              "   Id  SepalLengthCm  SepalWidthCm  PetalLengthCm  PetalWidthCm      Species\n",
              "0   1            5.1           3.5            1.4           0.2  Iris-setosa\n",
              "1   2            4.9           3.0            1.4           0.2  Iris-setosa\n",
              "2   3            4.7           3.2            1.3           0.2  Iris-setosa\n",
              "3   4            4.6           3.1            1.5           0.2  Iris-setosa\n",
              "4   5            5.0           3.6            1.4           0.2  Iris-setosa"
            ]
          },
          "metadata": {
            "tags": []
          },
          "execution_count": 31
        }
      ]
    },
    {
      "cell_type": "code",
      "metadata": {
        "id": "tW-WOPSNnAhX"
      },
      "source": [
        "from sklearn.preprocessing import LabelEncoder\n",
        "d_types=dict(df_I.dtypes)\n",
        "\n",
        "for name,type_ in d_types.items():\n",
        "  if str(type_) == \"object\":\n",
        "    le=LabelEncoder()\n",
        "    df_I[name]=le.fit_transform(df_I[name])"
      ],
      "execution_count": null,
      "outputs": []
    },
    {
      "cell_type": "code",
      "metadata": {
        "id": "Xu4BrbExputX"
      },
      "source": [
        "X=df_I.drop([\"Species\"],axis=1)\n",
        "Y=df_I[\"Species\"]"
      ],
      "execution_count": null,
      "outputs": []
    },
    {
      "cell_type": "code",
      "metadata": {
        "id": "3ycbCPUGpu4i"
      },
      "source": [
        "X_train,X_test,y_train,y_test=train_test_split(X,Y,test_size=0.25)"
      ],
      "execution_count": null,
      "outputs": []
    },
    {
      "cell_type": "code",
      "metadata": {
        "id": "TJRwvYb2pvDW"
      },
      "source": [
        "from sklearn.naive_bayes import MultinomialNB\n",
        "clf=MultinomialNB()\n",
        "clf.fit(X_train,y_train)\n",
        "y_pred_1=clf.predict(X_test)"
      ],
      "execution_count": null,
      "outputs": []
    },
    {
      "cell_type": "code",
      "metadata": {
        "colab": {
          "base_uri": "https://localhost:8080/",
          "height": 286
        },
        "id": "ncRat9qLp8hm",
        "outputId": "2d88608d-f91b-4763-da75-82167660a8d6"
      },
      "source": [
        "cm_1=confusion_matrix(y_pred_1,y_test)\n",
        "sns.heatmap(cm_1,annot=True)"
      ],
      "execution_count": null,
      "outputs": [
        {
          "output_type": "execute_result",
          "data": {
            "text/plain": [
              "<matplotlib.axes._subplots.AxesSubplot at 0x7f46c1137ed0>"
            ]
          },
          "metadata": {
            "tags": []
          },
          "execution_count": 36
        },
        {
          "output_type": "display_data",
          "data": {
            "image/png": "[encoded data removed]",
            "text/plain": [
              "<Figure size 432x288 with 2 Axes>"
            ]
          },
          "metadata": {
            "tags": [],
            "needs_background": "light"
          }
        }
      ]
    },
    {
      "cell_type": "code",
      "metadata": {
        "colab": {
          "base_uri": "https://localhost:8080/"
        },
        "id": "He43BnuKp_Ga",
        "outputId": "4a640d89-a040-4cdc-af24-6f8bda1a4ed1"
      },
      "source": [
        "print(accuracy_score(y_pred_1,y_test))\n",
        "print(classification_report(y_pred_1,y_test))"
      ],
      "execution_count": null,
      "outputs": [
        {
          "output_type": "stream",
          "text": [
            "0.868421052631579\n",
            "              precision    recall  f1-score   support\n",
            "\n",
            "           0       0.75      1.00      0.86         6\n",
            "           1       0.81      0.87      0.84        15\n",
            "           2       1.00      0.82      0.90        17\n",
            "\n",
            "    accuracy                           0.87        38\n",
            "   macro avg       0.85      0.90      0.87        38\n",
            "weighted avg       0.89      0.87      0.87        38\n",
            "\n"
          ],
          "name": "stdout"
        }
      ]
    },
    {
      "cell_type": "code",
      "metadata": {
        "id": "glP3eGX7q9pw"
      },
      "source": [
        "from sklearn.naive_bayes import GaussianNB\n",
        "clf2=GaussianNB()\n",
        "clf2.fit(X_train,y_train)\n",
        "y_pred_1=clf2.predict(X_test)"
      ],
      "execution_count": null,
      "outputs": []
    },
    {
      "cell_type": "code",
      "metadata": {
        "colab": {
          "base_uri": "https://localhost:8080/",
          "height": 286
        },
        "id": "JV8fvYeRrGKb",
        "outputId": "f3df7412-a2f1-4700-a62e-d45170a73b3d"
      },
      "source": [
        "cm_1=confusion_matrix(y_pred_1,y_test)\n",
        "sns.heatmap(cm_1,annot=True)"
      ],
      "execution_count": null,
      "outputs": [
        {
          "output_type": "execute_result",
          "data": {
            "text/plain": [
              "<matplotlib.axes._subplots.AxesSubplot at 0x7f46c96c8cd0>"
            ]
          },
          "metadata": {
            "tags": []
          },
          "execution_count": 39
        },
        {
          "output_type": "display_data",
          "data": {
            "image/png": "[encoded data removed]",
            "text/plain": [
              "<Figure size 432x288 with 2 Axes>"
            ]
          },
          "metadata": {
            "tags": [],
            "needs_background": "light"
          }
        }
      ]
    },
    {
      "cell_type": "code",
      "metadata": {
        "colab": {
          "base_uri": "https://localhost:8080/"
        },
        "id": "8EEerOh0rIDH",
        "outputId": "f2b6f94c-22fa-4412-f519-60dae849e528"
      },
      "source": [
        "print(accuracy_score(y_pred_1,y_test))\n",
        "print(classification_report(y_pred_1,y_test))"
      ],
      "execution_count": null,
      "outputs": [
        {
          "output_type": "stream",
          "text": [
            "1.0\n",
            "              precision    recall  f1-score   support\n",
            "\n",
            "           0       1.00      1.00      1.00         8\n",
            "           1       1.00      1.00      1.00        16\n",
            "           2       1.00      1.00      1.00        14\n",
            "\n",
            "    accuracy                           1.00        38\n",
            "   macro avg       1.00      1.00      1.00        38\n",
            "weighted avg       1.00      1.00      1.00        38\n",
            "\n"
          ],
          "name": "stdout"
        }
      ]
    }
  ]
}