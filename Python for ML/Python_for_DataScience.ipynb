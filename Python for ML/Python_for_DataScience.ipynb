{
  "nbformat": 4,
  "nbformat_minor": 0,
  "metadata": {
    "colab": {
      "name": "Python for DataScience.ipynb",
      "provenance": [],
      "collapsed_sections": []
    },
    "kernelspec": {
      "name": "python3",
      "display_name": "Python 3"
    },
    "language_info": {
      "name": "python"
    }
  },
  "cells": [
    {
      "cell_type": "markdown",
      "metadata": {
        "id": "5Er4Bm8DOfws"
      },
      "source": [
        "## Stacks and Queues"
      ]
    },
    {
      "cell_type": "code",
      "metadata": {
        "colab": {
          "base_uri": "https://localhost:8080/"
        },
        "id": "dFeEs0C0OgAu",
        "outputId": "cb6bbcbb-075f-46cb-c376-e03f77d16944"
      },
      "source": [
        "def add(l,i,n):\n",
        "  l.insert(i,n)\n",
        "  print(\"Element Added at specific position\")\n",
        "  return l\n",
        "def delete(l,n):\n",
        "  l.pop(n)\n",
        "  print(\"Element deleted at specific position\")\n",
        "  return l\n",
        "def push(l,n):\n",
        "  l.append(n)\n",
        "  print(\"Element Inserted\")\n",
        "  return l\n",
        "def pop(l):\n",
        "  l.pop()\n",
        "  print(\"Element Removed\")\n",
        "  return l\n",
        "\n",
        "\n",
        "\n",
        "l=[]\n",
        "n=int(input(\"Enter number of the elements in the list:\"))\n",
        "for i in range(n):\n",
        "  a=input(\"Enter the elements:\")\n",
        "  l.append(a)\n",
        "print(\"1.Add element\")\n",
        "print(\"2.Remove element\")\n",
        "print(\"3.Add element at specific index\")\n",
        "print(\"4.Remove element at specific index\")\n",
        "print(\"5.Display list\")\n",
        "print(\"6.Exit\")\n",
        "while True:\n",
        "  ch=int(input(\"Enter the choice:\"))\n",
        "  if ch==1:\n",
        "    e=input(\"Enter the element to insert in the list:\")\n",
        "    push(l,e)\n",
        "  if ch==2:\n",
        "    pop(l)\n",
        "  if ch==3:\n",
        "    e2=input(\"Enter the element to insert in the list:\")\n",
        "    a=int(input(\"Enter the position:\"))\n",
        "    add(l,a,e2)\n",
        "  if ch==4:\n",
        "    e1=int(input(\"Enter the index number of the element to delete\"))\n",
        "    delete(l,e1)\n",
        "  if ch==5:\n",
        "    print(\"Elements in the list:\")\n",
        "    print(l)\n",
        "  if ch==6:\n",
        "    break\n",
        "    \n",
        "\n"
      ],
      "execution_count": null,
      "outputs": [
        {
          "output_type": "stream",
          "text": [
            "Enter number of the elements in the list:2\n",
            "Enter the elements:1\n",
            "Enter the elements:2\n",
            "1.Add element\n",
            "2.Remove element\n",
            "3.Add element at specific index\n",
            "4.Remove element at specific index\n",
            "5.Display list\n",
            "6.Exit\n",
            "Enter the choice:1\n",
            "Enter the element to insert in the list:3\n",
            "Element Inserted\n",
            "Enter the choice:5\n",
            "Elements in the list:\n",
            "['1', '2', '3']\n",
            "Enter the choice:2\n",
            "Element Removed\n",
            "Enter the choice:5\n",
            "Elements in the list:\n",
            "['1', '2']\n",
            "Enter the choice:3\n",
            "Enter the element to insert in the list:4\n",
            "Enter the position:1\n",
            "Element Added at specific position\n",
            "Enter the choice:5\n",
            "Elements in the list:\n",
            "['1', '4', '2']\n",
            "Enter the choice:4\n",
            "Enter the index number of the element to delete2\n",
            "Element deleted at specific position\n",
            "Enter the choice:5\n",
            "Elements in the list:\n",
            "['1', '4']\n",
            "Enter the choice:6\n"
          ],
          "name": "stdout"
        }
      ]
    },
    {
      "cell_type": "markdown",
      "metadata": {
        "id": "c30J09moJA2y"
      },
      "source": [
        "## Datetime"
      ]
    },
    {
      "cell_type": "markdown",
      "metadata": {
        "id": "jDUqqBvoJDDO"
      },
      "source": [
        "Date class : It has three arguments: year,moth and day"
      ]
    },
    {
      "cell_type": "code",
      "metadata": {
        "colab": {
          "base_uri": "https://localhost:8080/"
        },
        "id": "7ptJztkAIZrq",
        "outputId": "d02fc60a-6ff6-4b88-911c-59da9cb3a6b1"
      },
      "source": [
        "from datetime import date\n",
        "mydate=date(2001,7,31)\n",
        "print(mydate)\n",
        "print(\"Today's date:\",date.today())\n",
        "date.today().month"
      ],
      "execution_count": null,
      "outputs": [
        {
          "output_type": "stream",
          "text": [
            "2001-07-31\n",
            "Today's date: 2021-06-04\n"
          ],
          "name": "stdout"
        },
        {
          "output_type": "execute_result",
          "data": {
            "text/plain": [
              "6"
            ]
          },
          "metadata": {
            "tags": []
          },
          "execution_count": 5
        }
      ]
    },
    {
      "cell_type": "markdown",
      "metadata": {
        "id": "yz7PN6oyJFbK"
      },
      "source": [
        "Time class: It has four arguements : hour,minute,second and microsecond"
      ]
    },
    {
      "cell_type": "code",
      "metadata": {
        "colab": {
          "base_uri": "https://localhost:8080/"
        },
        "id": "PqyP2WouJGx-",
        "outputId": "07690101-bab4-4524-8ad3-3948d3adf79c"
      },
      "source": [
        "from datetime import time\n",
        "mytime=time(hour=12,minute=30,second=12)\n",
        "print(mytime)\n"
      ],
      "execution_count": null,
      "outputs": [
        {
          "output_type": "stream",
          "text": [
            "12:30:12\n"
          ],
          "name": "stdout"
        }
      ]
    },
    {
      "cell_type": "markdown",
      "metadata": {
        "id": "5ImzhEleLapD"
      },
      "source": [
        "Datetime class"
      ]
    },
    {
      "cell_type": "code",
      "metadata": {
        "colab": {
          "base_uri": "https://localhost:8080/"
        },
        "id": "gF1tDzu3K6-4",
        "outputId": "17984eb0-b0db-4dee-9f5e-264d60ebdf2d"
      },
      "source": [
        "from datetime import datetime\n",
        "now=datetime.now()\n",
        "print(\"Current time:\",now)"
      ],
      "execution_count": null,
      "outputs": [
        {
          "output_type": "stream",
          "text": [
            "Current time: 2021-06-04 08:38:25.888628\n"
          ],
          "name": "stdout"
        }
      ]
    },
    {
      "cell_type": "markdown",
      "metadata": {
        "id": "Yqod4-AtNvAs"
      },
      "source": [
        "## Numpy"
      ]
    },
    {
      "cell_type": "code",
      "metadata": {
        "id": "fdZDTYjkNyP2"
      },
      "source": [
        "import numpy as np"
      ],
      "execution_count": null,
      "outputs": []
    },
    {
      "cell_type": "code",
      "metadata": {
        "colab": {
          "base_uri": "https://localhost:8080/"
        },
        "id": "ddAJX-TLN03j",
        "outputId": "f5b8687f-f11c-4a33-f1e2-65ea2638fe0c"
      },
      "source": [
        "ar=np.array([1,2,3,4,5])\n",
        "print(ar)"
      ],
      "execution_count": null,
      "outputs": [
        {
          "output_type": "stream",
          "text": [
            "[1 2 3 4 5]\n"
          ],
          "name": "stdout"
        }
      ]
    },
    {
      "cell_type": "code",
      "metadata": {
        "colab": {
          "base_uri": "https://localhost:8080/"
        },
        "id": "0iwriylgOLhb",
        "outputId": "4058675d-a833-4662-c1e0-ebe274104f92"
      },
      "source": [
        "ar=np.array([[1,2,3,4,5],[6,7,8,9,10]])\n",
        "print(ar[0,1])"
      ],
      "execution_count": null,
      "outputs": [
        {
          "output_type": "stream",
          "text": [
            "2\n"
          ],
          "name": "stdout"
        }
      ]
    },
    {
      "cell_type": "code",
      "metadata": {
        "colab": {
          "base_uri": "https://localhost:8080/"
        },
        "id": "H8rjiuT2OwIv",
        "outputId": "af041bd2-dda1-401d-9e73-03902be05dfb"
      },
      "source": [
        "ar=np.array([[[1,2,3,4,5],[6,7,8,9,10]], [[11,12,13,14,15],[16,17,18,19,20]]])\n",
        "print(ar)"
      ],
      "execution_count": null,
      "outputs": [
        {
          "output_type": "stream",
          "text": [
            "[[[ 1  2  3  4  5]\n",
            "  [ 6  7  8  9 10]]\n",
            "\n",
            " [[11 12 13 14 15]\n",
            "  [16 17 18 19 20]]]\n"
          ],
          "name": "stdout"
        }
      ]
    },
    {
      "cell_type": "code",
      "metadata": {
        "colab": {
          "base_uri": "https://localhost:8080/"
        },
        "id": "WS8NievCO9t9",
        "outputId": "46b01490-1cc5-49d6-d860-cb6ecdce5230"
      },
      "source": [
        "ar=np.array([1,2,3,4,5])\n",
        "print(ar[1])"
      ],
      "execution_count": null,
      "outputs": [
        {
          "output_type": "stream",
          "text": [
            "2\n"
          ],
          "name": "stdout"
        }
      ]
    },
    {
      "cell_type": "markdown",
      "metadata": {
        "id": "2JJHjVz_PX0b"
      },
      "source": [
        "Mathematical operations on Numpy array"
      ]
    },
    {
      "cell_type": "code",
      "metadata": {
        "colab": {
          "base_uri": "https://localhost:8080/"
        },
        "id": "dkgMO96BPcIy",
        "outputId": "511d9530-98d3-4078-ba8c-8d6d365ea6a5"
      },
      "source": [
        "ar=np.array([1,2,3,4,5])\n",
        "print(ar)\n",
        "#cosine values of each element of the array\n",
        "print(\"Cosine:\",np.cos(ar))\n",
        "#log values of each element of the array\n",
        "print(\"Log values:\",np.log(ar))\n",
        "print(\"Mean:\",np.mean(ar))\n",
        "print(\"Median:\",np.median(ar))\n",
        "print(\"standard deviation:\",np.std(ar))\n",
        "print(\"Exponential:\",np.exp(ar))"
      ],
      "execution_count": null,
      "outputs": [
        {
          "output_type": "stream",
          "text": [
            "[1 2 3 4 5]\n",
            "Cosine: [ 0.54030231 -0.41614684 -0.9899925  -0.65364362  0.28366219]\n",
            "Log values: [0.         0.69314718 1.09861229 1.38629436 1.60943791]\n",
            "Mean: 3.0\n",
            "Median: 3.0\n",
            "standard deviation: 1.4142135623730951\n",
            "Exponential: [  2.71828183   7.3890561   20.08553692  54.59815003 148.4131591 ]\n"
          ],
          "name": "stdout"
        }
      ]
    },
    {
      "cell_type": "code",
      "metadata": {
        "colab": {
          "base_uri": "https://localhost:8080/"
        },
        "id": "ft6f-a5NR50C",
        "outputId": "e3223710-0ebb-4f0f-db3c-ff96d18e3dd0"
      },
      "source": [
        "ar1=np.array([1,2,3,4,5])\n",
        "ar2=np.array([6,7,8,9,10])\n",
        "print(ar1+ar2)\n",
        "print(ar1-ar2)\n",
        "print(ar1*ar2)"
      ],
      "execution_count": null,
      "outputs": [
        {
          "output_type": "stream",
          "text": [
            "[ 7  9 11 13 15]\n",
            "[-5 -5 -5 -5 -5]\n",
            "[ 6 14 24 36 50]\n"
          ],
          "name": "stdout"
        }
      ]
    },
    {
      "cell_type": "code",
      "metadata": {
        "colab": {
          "base_uri": "https://localhost:8080/"
        },
        "id": "StP6IS0OSeRp",
        "outputId": "25147190-fa54-430c-bdc0-0affe4d75e87"
      },
      "source": [
        "arr=np.ones(2)\n",
        "arr"
      ],
      "execution_count": null,
      "outputs": [
        {
          "output_type": "execute_result",
          "data": {
            "text/plain": [
              "array([1., 1.])"
            ]
          },
          "metadata": {
            "tags": []
          },
          "execution_count": 31
        }
      ]
    },
    {
      "cell_type": "code",
      "metadata": {
        "colab": {
          "base_uri": "https://localhost:8080/"
        },
        "id": "wyaV5QEXSinZ",
        "outputId": "628be592-5edc-4d0d-e696-483d6f298277"
      },
      "source": [
        "arr=np.ones((2,2))\n",
        "arr"
      ],
      "execution_count": null,
      "outputs": [
        {
          "output_type": "execute_result",
          "data": {
            "text/plain": [
              "array([[1., 1.],\n",
              "       [1., 1.]])"
            ]
          },
          "metadata": {
            "tags": []
          },
          "execution_count": 33
        }
      ]
    },
    {
      "cell_type": "code",
      "metadata": {
        "colab": {
          "base_uri": "https://localhost:8080/"
        },
        "id": "YzexfvZQSsOx",
        "outputId": "e50b8f50-bb6d-419f-cb7d-b425dc9383a3"
      },
      "source": [
        "arr=np.zeros(2)\n",
        "arr"
      ],
      "execution_count": null,
      "outputs": [
        {
          "output_type": "execute_result",
          "data": {
            "text/plain": [
              "array([0., 0.])"
            ]
          },
          "metadata": {
            "tags": []
          },
          "execution_count": 34
        }
      ]
    },
    {
      "cell_type": "code",
      "metadata": {
        "colab": {
          "base_uri": "https://localhost:8080/"
        },
        "id": "Zwyz18iyS0qW",
        "outputId": "15fa994e-b5ca-45aa-d659-0ba21c7c5ad9"
      },
      "source": [
        "arr=np.eye(2,2)\n",
        "arr"
      ],
      "execution_count": null,
      "outputs": [
        {
          "output_type": "execute_result",
          "data": {
            "text/plain": [
              "array([[1., 0.],\n",
              "       [0., 1.]])"
            ]
          },
          "metadata": {
            "tags": []
          },
          "execution_count": 36
        }
      ]
    },
    {
      "cell_type": "code",
      "metadata": {
        "colab": {
          "base_uri": "https://localhost:8080/"
        },
        "id": "IitDOZuSTQhj",
        "outputId": "3dbcfcc5-f6b2-4bf0-e5d8-f4e6dfb1f3b8"
      },
      "source": [
        "ar1=np.array([1,2,3,4,5,6])\n",
        "np.reshape(ar1,(2,3))"
      ],
      "execution_count": null,
      "outputs": [
        {
          "output_type": "execute_result",
          "data": {
            "text/plain": [
              "array([[1, 2, 3],\n",
              "       [4, 5, 6]])"
            ]
          },
          "metadata": {
            "tags": []
          },
          "execution_count": 38
        }
      ]
    },
    {
      "cell_type": "markdown",
      "metadata": {
        "id": "AezdCL4hT7Bx"
      },
      "source": [
        "## Pandas"
      ]
    },
    {
      "cell_type": "code",
      "metadata": {
        "id": "Qnz3s-SAT8fg"
      },
      "source": [
        "import pandas as pd"
      ],
      "execution_count": null,
      "outputs": []
    },
    {
      "cell_type": "code",
      "metadata": {
        "colab": {
          "base_uri": "https://localhost:8080/",
          "height": 221
        },
        "id": "ATTIAcIpVA_R",
        "outputId": "f452bd9f-1976-4972-fae0-60156a45ddbe"
      },
      "source": [
        "url = \"http://bit.ly/w-data\"\n",
        "students_data = pd.read_csv(url)\n",
        "print(\"Data imported successfully\")\n",
        "students_data.head(5)"
      ],
      "execution_count": null,
      "outputs": [
        {
          "output_type": "stream",
          "text": [
            "Data imported successfully\n"
          ],
          "name": "stdout"
        },
        {
          "output_type": "execute_result",
          "data": {
            "text/html": [
              "<div>\n",
              "<style scoped>\n",
              "    .dataframe tbody tr th:only-of-type {\n",
              "        vertical-align: middle;\n",
              "    }\n",
              "\n",
              "    .dataframe tbody tr th {\n",
              "        vertical-align: top;\n",
              "    }\n",
              "\n",
              "    .dataframe thead th {\n",
              "        text-align: right;\n",
              "    }\n",
              "</style>\n",
              "<table border=\"1\" class=\"dataframe\">\n",
              "  <thead>\n",
              "    <tr style=\"text-align: right;\">\n",
              "      <th></th>\n",
              "      <th>Hours</th>\n",
              "      <th>Scores</th>\n",
              "    </tr>\n",
              "  </thead>\n",
              "  <tbody>\n",
              "    <tr>\n",
              "      <th>0</th>\n",
              "      <td>2.5</td>\n",
              "      <td>21</td>\n",
              "    </tr>\n",
              "    <tr>\n",
              "      <th>1</th>\n",
              "      <td>5.1</td>\n",
              "      <td>47</td>\n",
              "    </tr>\n",
              "    <tr>\n",
              "      <th>2</th>\n",
              "      <td>3.2</td>\n",
              "      <td>27</td>\n",
              "    </tr>\n",
              "    <tr>\n",
              "      <th>3</th>\n",
              "      <td>8.5</td>\n",
              "      <td>75</td>\n",
              "    </tr>\n",
              "    <tr>\n",
              "      <th>4</th>\n",
              "      <td>3.5</td>\n",
              "      <td>30</td>\n",
              "    </tr>\n",
              "  </tbody>\n",
              "</table>\n",
              "</div>"
            ],
            "text/plain": [
              "   Hours  Scores\n",
              "0    2.5      21\n",
              "1    5.1      47\n",
              "2    3.2      27\n",
              "3    8.5      75\n",
              "4    3.5      30"
            ]
          },
          "metadata": {
            "tags": []
          },
          "execution_count": 47
        }
      ]
    },
    {
      "cell_type": "code",
      "metadata": {
        "colab": {
          "base_uri": "https://localhost:8080/",
          "height": 221
        },
        "id": "I7_nH0kIVk6p",
        "outputId": "e24e19e2-c1eb-44cb-edfb-d28fb0e07b38"
      },
      "source": [
        "url1 = \"https://raw.githubusercontent.com/AdiPersonalWorks/Random/master/student_scores%20-%20student_scores.csv\"\n",
        "students_data = pd.read_csv(url1)\n",
        "print(\"Data imported successfully\")\n",
        "students_data.head(5)"
      ],
      "execution_count": null,
      "outputs": [
        {
          "output_type": "stream",
          "text": [
            "Data imported successfully\n"
          ],
          "name": "stdout"
        },
        {
          "output_type": "execute_result",
          "data": {
            "text/html": [
              "<div>\n",
              "<style scoped>\n",
              "    .dataframe tbody tr th:only-of-type {\n",
              "        vertical-align: middle;\n",
              "    }\n",
              "\n",
              "    .dataframe tbody tr th {\n",
              "        vertical-align: top;\n",
              "    }\n",
              "\n",
              "    .dataframe thead th {\n",
              "        text-align: right;\n",
              "    }\n",
              "</style>\n",
              "<table border=\"1\" class=\"dataframe\">\n",
              "  <thead>\n",
              "    <tr style=\"text-align: right;\">\n",
              "      <th></th>\n",
              "      <th>Hours</th>\n",
              "      <th>Scores</th>\n",
              "    </tr>\n",
              "  </thead>\n",
              "  <tbody>\n",
              "    <tr>\n",
              "      <th>0</th>\n",
              "      <td>2.5</td>\n",
              "      <td>21</td>\n",
              "    </tr>\n",
              "    <tr>\n",
              "      <th>1</th>\n",
              "      <td>5.1</td>\n",
              "      <td>47</td>\n",
              "    </tr>\n",
              "    <tr>\n",
              "      <th>2</th>\n",
              "      <td>3.2</td>\n",
              "      <td>27</td>\n",
              "    </tr>\n",
              "    <tr>\n",
              "      <th>3</th>\n",
              "      <td>8.5</td>\n",
              "      <td>75</td>\n",
              "    </tr>\n",
              "    <tr>\n",
              "      <th>4</th>\n",
              "      <td>3.5</td>\n",
              "      <td>30</td>\n",
              "    </tr>\n",
              "  </tbody>\n",
              "</table>\n",
              "</div>"
            ],
            "text/plain": [
              "   Hours  Scores\n",
              "0    2.5      21\n",
              "1    5.1      47\n",
              "2    3.2      27\n",
              "3    8.5      75\n",
              "4    3.5      30"
            ]
          },
          "metadata": {
            "tags": []
          },
          "execution_count": 48
        }
      ]
    },
    {
      "cell_type": "code",
      "metadata": {
        "colab": {
          "base_uri": "https://localhost:8080/",
          "height": 238
        },
        "id": "rL7UjrdBWIzJ",
        "outputId": "083628e1-b4a5-4add-aa7e-cbb0a7c6f65e"
      },
      "source": [
        "data=pd.read_csv(\"Loan_dataset.csv\")\n",
        "data.head(5)"
      ],
      "execution_count": null,
      "outputs": [
        {
          "output_type": "execute_result",
          "data": {
            "text/html": [
              "<div>\n",
              "<style scoped>\n",
              "    .dataframe tbody tr th:only-of-type {\n",
              "        vertical-align: middle;\n",
              "    }\n",
              "\n",
              "    .dataframe tbody tr th {\n",
              "        vertical-align: top;\n",
              "    }\n",
              "\n",
              "    .dataframe thead th {\n",
              "        text-align: right;\n",
              "    }\n",
              "</style>\n",
              "<table border=\"1\" class=\"dataframe\">\n",
              "  <thead>\n",
              "    <tr style=\"text-align: right;\">\n",
              "      <th></th>\n",
              "      <th>Loan_ID</th>\n",
              "      <th>Gender</th>\n",
              "      <th>Marriage Status</th>\n",
              "      <th>Number of Dependant</th>\n",
              "      <th>Education Level</th>\n",
              "      <th>Are they self employed</th>\n",
              "      <th>Applicants income</th>\n",
              "      <th>Co-applicants income</th>\n",
              "      <th>Loan Amount</th>\n",
              "      <th>Loan Duration</th>\n",
              "      <th>Creditability</th>\n",
              "      <th>Property Area</th>\n",
              "      <th>Loan_Status</th>\n",
              "    </tr>\n",
              "  </thead>\n",
              "  <tbody>\n",
              "    <tr>\n",
              "      <th>0</th>\n",
              "      <td>LP001002</td>\n",
              "      <td>Male</td>\n",
              "      <td>No</td>\n",
              "      <td>0</td>\n",
              "      <td>Graduate</td>\n",
              "      <td>No</td>\n",
              "      <td>5849</td>\n",
              "      <td>0.0</td>\n",
              "      <td>NaN</td>\n",
              "      <td>360.0</td>\n",
              "      <td>1.0</td>\n",
              "      <td>Urban</td>\n",
              "      <td>Y</td>\n",
              "    </tr>\n",
              "    <tr>\n",
              "      <th>1</th>\n",
              "      <td>LP001003</td>\n",
              "      <td>Male</td>\n",
              "      <td>Yes</td>\n",
              "      <td>1</td>\n",
              "      <td>Graduate</td>\n",
              "      <td>No</td>\n",
              "      <td>4583</td>\n",
              "      <td>1508.0</td>\n",
              "      <td>128.0</td>\n",
              "      <td>360.0</td>\n",
              "      <td>1.0</td>\n",
              "      <td>Rural</td>\n",
              "      <td>N</td>\n",
              "    </tr>\n",
              "    <tr>\n",
              "      <th>2</th>\n",
              "      <td>LP001005</td>\n",
              "      <td>Male</td>\n",
              "      <td>Yes</td>\n",
              "      <td>0</td>\n",
              "      <td>Graduate</td>\n",
              "      <td>Yes</td>\n",
              "      <td>3000</td>\n",
              "      <td>0.0</td>\n",
              "      <td>66.0</td>\n",
              "      <td>360.0</td>\n",
              "      <td>1.0</td>\n",
              "      <td>Urban</td>\n",
              "      <td>Y</td>\n",
              "    </tr>\n",
              "    <tr>\n",
              "      <th>3</th>\n",
              "      <td>LP001006</td>\n",
              "      <td>Male</td>\n",
              "      <td>Yes</td>\n",
              "      <td>0</td>\n",
              "      <td>Not Graduate</td>\n",
              "      <td>No</td>\n",
              "      <td>2583</td>\n",
              "      <td>2358.0</td>\n",
              "      <td>120.0</td>\n",
              "      <td>360.0</td>\n",
              "      <td>1.0</td>\n",
              "      <td>Urban</td>\n",
              "      <td>Y</td>\n",
              "    </tr>\n",
              "    <tr>\n",
              "      <th>4</th>\n",
              "      <td>LP001008</td>\n",
              "      <td>Male</td>\n",
              "      <td>No</td>\n",
              "      <td>0</td>\n",
              "      <td>Graduate</td>\n",
              "      <td>No</td>\n",
              "      <td>6000</td>\n",
              "      <td>0.0</td>\n",
              "      <td>141.0</td>\n",
              "      <td>360.0</td>\n",
              "      <td>1.0</td>\n",
              "      <td>Urban</td>\n",
              "      <td>Y</td>\n",
              "    </tr>\n",
              "  </tbody>\n",
              "</table>\n",
              "</div>"
            ],
            "text/plain": [
              "    Loan_ID Gender Marriage Status  ... Creditability Property Area Loan_Status\n",
              "0  LP001002   Male              No  ...           1.0         Urban           Y\n",
              "1  LP001003   Male             Yes  ...           1.0         Rural           N\n",
              "2  LP001005   Male             Yes  ...           1.0         Urban           Y\n",
              "3  LP001006   Male             Yes  ...           1.0         Urban           Y\n",
              "4  LP001008   Male              No  ...           1.0         Urban           Y\n",
              "\n",
              "[5 rows x 13 columns]"
            ]
          },
          "metadata": {
            "tags": []
          },
          "execution_count": 49
        }
      ]
    },
    {
      "cell_type": "code",
      "metadata": {
        "colab": {
          "base_uri": "https://localhost:8080/",
          "height": 326
        },
        "id": "uuciE_mFWMvQ",
        "outputId": "49fca5b6-50d6-48d3-eb1e-b9321db0f7ef"
      },
      "source": [
        "data[\"Property Area\"].value_counts().plot(kind='bar')       "
      ],
      "execution_count": null,
      "outputs": [
        {
          "output_type": "execute_result",
          "data": {
            "text/plain": [
              "<matplotlib.axes._subplots.AxesSubplot at 0x7ff8f06ca290>"
            ]
          },
          "metadata": {
            "tags": []
          },
          "execution_count": 58
        },
        {
          "output_type": "display_data",
          "data": {
            "image/png": "[encoded data removed]",
            "text/plain": [
              "<Figure size 432x288 with 1 Axes>"
            ]
          },
          "metadata": {
            "tags": [],
            "needs_background": "light"
          }
        }
      ]
    },
    {
      "cell_type": "code",
      "metadata": {
        "colab": {
          "base_uri": "https://localhost:8080/",
          "height": 265
        },
        "id": "qo1brt8eXMXC",
        "outputId": "82d26a4c-1359-4fa5-ba7a-bac5159a5d28"
      },
      "source": [
        "data[\"Property Area\"].value_counts().plot(kind='pie') "
      ],
      "execution_count": null,
      "outputs": [
        {
          "output_type": "execute_result",
          "data": {
            "text/plain": [
              "<matplotlib.axes._subplots.AxesSubplot at 0x7ff8ec3dab50>"
            ]
          },
          "metadata": {
            "tags": []
          },
          "execution_count": 60
        },
        {
          "output_type": "display_data",
          "data": {
            "image/png": "[encoded data removed]",
            "text/plain": [
              "<Figure size 432x288 with 1 Axes>"
            ]
          },
          "metadata": {
            "tags": []
          }
        }
      ]
    },
    {
      "cell_type": "code",
      "metadata": {
        "colab": {
          "base_uri": "https://localhost:8080/",
          "height": 282
        },
        "id": "HTOmpbrnXM67",
        "outputId": "494a8947-5316-469b-8e21-25631bd13f77"
      },
      "source": [
        "data[\"Property Area\"].value_counts().plot(kind='line') "
      ],
      "execution_count": null,
      "outputs": [
        {
          "output_type": "execute_result",
          "data": {
            "text/plain": [
              "<matplotlib.axes._subplots.AxesSubplot at 0x7ff8ec3a6ed0>"
            ]
          },
          "metadata": {
            "tags": []
          },
          "execution_count": 61
        },
        {
          "output_type": "display_data",
          "data": {
            "image/png": "[encoded data removed]",
            "text/plain": [
              "<Figure size 432x288 with 1 Axes>"
            ]
          },
          "metadata": {
            "tags": [],
            "needs_background": "light"
          }
        }
      ]
    },
    {
      "cell_type": "markdown",
      "metadata": {
        "id": "EAnnqTmSXR6P"
      },
      "source": [
        "Conculsion: If we have 4-5 distinct values in column then plot a pie chart, if more then 5 then plot bar graph and if we have many distinct values plot a line graph"
      ]
    },
    {
      "cell_type": "code",
      "metadata": {
        "colab": {
          "base_uri": "https://localhost:8080/",
          "height": 669
        },
        "id": "vqKYFT3uX_0g",
        "outputId": "6b9704d9-c93e-4ecf-9092-99097952f0f6"
      },
      "source": [
        "time_series=pd.date_range('1/1/2020',periods=20)\n",
        "df=pd.DataFrame(np.random.randn(20,5),index=time_series,columns=['Column 1','Column 2','Column 3','Column 4','Column 5'])\n",
        "df"
      ],
      "execution_count": null,
      "outputs": [
        {
          "output_type": "execute_result",
          "data": {
            "text/html": [
              "<div>\n",
              "<style scoped>\n",
              "    .dataframe tbody tr th:only-of-type {\n",
              "        vertical-align: middle;\n",
              "    }\n",
              "\n",
              "    .dataframe tbody tr th {\n",
              "        vertical-align: top;\n",
              "    }\n",
              "\n",
              "    .dataframe thead th {\n",
              "        text-align: right;\n",
              "    }\n",
              "</style>\n",
              "<table border=\"1\" class=\"dataframe\">\n",
              "  <thead>\n",
              "    <tr style=\"text-align: right;\">\n",
              "      <th></th>\n",
              "      <th>Column 1</th>\n",
              "      <th>Column 2</th>\n",
              "      <th>Column 3</th>\n",
              "      <th>Column 4</th>\n",
              "      <th>Column 5</th>\n",
              "    </tr>\n",
              "  </thead>\n",
              "  <tbody>\n",
              "    <tr>\n",
              "      <th>2020-01-01</th>\n",
              "      <td>-0.556376</td>\n",
              "      <td>0.192525</td>\n",
              "      <td>-1.420947</td>\n",
              "      <td>-0.416599</td>\n",
              "      <td>0.308286</td>\n",
              "    </tr>\n",
              "    <tr>\n",
              "      <th>2020-01-02</th>\n",
              "      <td>-0.942392</td>\n",
              "      <td>0.257169</td>\n",
              "      <td>-0.291252</td>\n",
              "      <td>-0.555710</td>\n",
              "      <td>-0.564209</td>\n",
              "    </tr>\n",
              "    <tr>\n",
              "      <th>2020-01-03</th>\n",
              "      <td>-0.693660</td>\n",
              "      <td>1.125571</td>\n",
              "      <td>-0.755897</td>\n",
              "      <td>-1.262317</td>\n",
              "      <td>0.018257</td>\n",
              "    </tr>\n",
              "    <tr>\n",
              "      <th>2020-01-04</th>\n",
              "      <td>1.740404</td>\n",
              "      <td>-0.151502</td>\n",
              "      <td>-0.773911</td>\n",
              "      <td>0.223237</td>\n",
              "      <td>-0.457765</td>\n",
              "    </tr>\n",
              "    <tr>\n",
              "      <th>2020-01-05</th>\n",
              "      <td>0.497345</td>\n",
              "      <td>-0.162508</td>\n",
              "      <td>0.008173</td>\n",
              "      <td>2.315306</td>\n",
              "      <td>0.543540</td>\n",
              "    </tr>\n",
              "    <tr>\n",
              "      <th>2020-01-06</th>\n",
              "      <td>0.354984</td>\n",
              "      <td>0.657965</td>\n",
              "      <td>0.433562</td>\n",
              "      <td>-0.293485</td>\n",
              "      <td>0.615279</td>\n",
              "    </tr>\n",
              "    <tr>\n",
              "      <th>2020-01-07</th>\n",
              "      <td>-2.269024</td>\n",
              "      <td>-0.714651</td>\n",
              "      <td>-0.735229</td>\n",
              "      <td>1.123601</td>\n",
              "      <td>0.243563</td>\n",
              "    </tr>\n",
              "    <tr>\n",
              "      <th>2020-01-08</th>\n",
              "      <td>0.432765</td>\n",
              "      <td>-1.800327</td>\n",
              "      <td>0.723924</td>\n",
              "      <td>0.157040</td>\n",
              "      <td>-0.701018</td>\n",
              "    </tr>\n",
              "    <tr>\n",
              "      <th>2020-01-09</th>\n",
              "      <td>-0.935567</td>\n",
              "      <td>-1.682658</td>\n",
              "      <td>0.392478</td>\n",
              "      <td>-1.421639</td>\n",
              "      <td>-0.905545</td>\n",
              "    </tr>\n",
              "    <tr>\n",
              "      <th>2020-01-10</th>\n",
              "      <td>1.585768</td>\n",
              "      <td>-0.059687</td>\n",
              "      <td>-1.395971</td>\n",
              "      <td>-0.578204</td>\n",
              "      <td>-0.040040</td>\n",
              "    </tr>\n",
              "    <tr>\n",
              "      <th>2020-01-11</th>\n",
              "      <td>0.813801</td>\n",
              "      <td>-0.011366</td>\n",
              "      <td>0.490170</td>\n",
              "      <td>0.043597</td>\n",
              "      <td>0.529740</td>\n",
              "    </tr>\n",
              "    <tr>\n",
              "      <th>2020-01-12</th>\n",
              "      <td>0.519897</td>\n",
              "      <td>0.379924</td>\n",
              "      <td>1.202194</td>\n",
              "      <td>0.703522</td>\n",
              "      <td>0.861780</td>\n",
              "    </tr>\n",
              "    <tr>\n",
              "      <th>2020-01-13</th>\n",
              "      <td>1.002679</td>\n",
              "      <td>-0.357996</td>\n",
              "      <td>-0.696569</td>\n",
              "      <td>0.787443</td>\n",
              "      <td>1.559810</td>\n",
              "    </tr>\n",
              "    <tr>\n",
              "      <th>2020-01-14</th>\n",
              "      <td>-1.303165</td>\n",
              "      <td>-0.831660</td>\n",
              "      <td>0.626823</td>\n",
              "      <td>-0.652674</td>\n",
              "      <td>0.613832</td>\n",
              "    </tr>\n",
              "    <tr>\n",
              "      <th>2020-01-15</th>\n",
              "      <td>-0.137819</td>\n",
              "      <td>0.790270</td>\n",
              "      <td>1.139646</td>\n",
              "      <td>0.431450</td>\n",
              "      <td>-0.741182</td>\n",
              "    </tr>\n",
              "    <tr>\n",
              "      <th>2020-01-16</th>\n",
              "      <td>1.534380</td>\n",
              "      <td>0.915169</td>\n",
              "      <td>-0.080096</td>\n",
              "      <td>-1.633859</td>\n",
              "      <td>-1.395155</td>\n",
              "    </tr>\n",
              "    <tr>\n",
              "      <th>2020-01-17</th>\n",
              "      <td>1.348911</td>\n",
              "      <td>-0.238892</td>\n",
              "      <td>2.218852</td>\n",
              "      <td>1.485138</td>\n",
              "      <td>0.712103</td>\n",
              "    </tr>\n",
              "    <tr>\n",
              "      <th>2020-01-18</th>\n",
              "      <td>-0.327899</td>\n",
              "      <td>-0.186459</td>\n",
              "      <td>-1.199229</td>\n",
              "      <td>-0.476975</td>\n",
              "      <td>-1.372362</td>\n",
              "    </tr>\n",
              "    <tr>\n",
              "      <th>2020-01-19</th>\n",
              "      <td>-0.218960</td>\n",
              "      <td>0.861868</td>\n",
              "      <td>-0.292014</td>\n",
              "      <td>0.359848</td>\n",
              "      <td>0.530437</td>\n",
              "    </tr>\n",
              "    <tr>\n",
              "      <th>2020-01-20</th>\n",
              "      <td>1.210464</td>\n",
              "      <td>-1.890281</td>\n",
              "      <td>0.140044</td>\n",
              "      <td>-1.504619</td>\n",
              "      <td>1.901182</td>\n",
              "    </tr>\n",
              "  </tbody>\n",
              "</table>\n",
              "</div>"
            ],
            "text/plain": [
              "            Column 1  Column 2  Column 3  Column 4  Column 5\n",
              "2020-01-01 -0.556376  0.192525 -1.420947 -0.416599  0.308286\n",
              "2020-01-02 -0.942392  0.257169 -0.291252 -0.555710 -0.564209\n",
              "2020-01-03 -0.693660  1.125571 -0.755897 -1.262317  0.018257\n",
              "2020-01-04  1.740404 -0.151502 -0.773911  0.223237 -0.457765\n",
              "2020-01-05  0.497345 -0.162508  0.008173  2.315306  0.543540\n",
              "2020-01-06  0.354984  0.657965  0.433562 -0.293485  0.615279\n",
              "2020-01-07 -2.269024 -0.714651 -0.735229  1.123601  0.243563\n",
              "2020-01-08  0.432765 -1.800327  0.723924  0.157040 -0.701018\n",
              "2020-01-09 -0.935567 -1.682658  0.392478 -1.421639 -0.905545\n",
              "2020-01-10  1.585768 -0.059687 -1.395971 -0.578204 -0.040040\n",
              "2020-01-11  0.813801 -0.011366  0.490170  0.043597  0.529740\n",
              "2020-01-12  0.519897  0.379924  1.202194  0.703522  0.861780\n",
              "2020-01-13  1.002679 -0.357996 -0.696569  0.787443  1.559810\n",
              "2020-01-14 -1.303165 -0.831660  0.626823 -0.652674  0.613832\n",
              "2020-01-15 -0.137819  0.790270  1.139646  0.431450 -0.741182\n",
              "2020-01-16  1.534380  0.915169 -0.080096 -1.633859 -1.395155\n",
              "2020-01-17  1.348911 -0.238892  2.218852  1.485138  0.712103\n",
              "2020-01-18 -0.327899 -0.186459 -1.199229 -0.476975 -1.372362\n",
              "2020-01-19 -0.218960  0.861868 -0.292014  0.359848  0.530437\n",
              "2020-01-20  1.210464 -1.890281  0.140044 -1.504619  1.901182"
            ]
          },
          "metadata": {
            "tags": []
          },
          "execution_count": 66
        }
      ]
    },
    {
      "cell_type": "code",
      "metadata": {
        "colab": {
          "base_uri": "https://localhost:8080/"
        },
        "id": "3eFCCTfZZp2m",
        "outputId": "33106d28-670e-41b5-b878-d42e8a43aa5a"
      },
      "source": [
        "df['Column 1'].head(5)"
      ],
      "execution_count": null,
      "outputs": [
        {
          "output_type": "execute_result",
          "data": {
            "text/plain": [
              "2020-01-01   -0.556376\n",
              "2020-01-02   -0.942392\n",
              "2020-01-03   -0.693660\n",
              "2020-01-04    1.740404\n",
              "2020-01-05    0.497345\n",
              "Freq: D, Name: Column 1, dtype: float64"
            ]
          },
          "metadata": {
            "tags": []
          },
          "execution_count": 69
        }
      ]
    },
    {
      "cell_type": "code",
      "metadata": {
        "colab": {
          "base_uri": "https://localhost:8080/",
          "height": 669
        },
        "id": "n-vYu7jeZ5yF",
        "outputId": "b6a1879f-c559-4d74-f754-8654d66d82ac"
      },
      "source": [
        "df[['Column 1','Column 2']]"
      ],
      "execution_count": null,
      "outputs": [
        {
          "output_type": "execute_result",
          "data": {
            "text/html": [
              "<div>\n",
              "<style scoped>\n",
              "    .dataframe tbody tr th:only-of-type {\n",
              "        vertical-align: middle;\n",
              "    }\n",
              "\n",
              "    .dataframe tbody tr th {\n",
              "        vertical-align: top;\n",
              "    }\n",
              "\n",
              "    .dataframe thead th {\n",
              "        text-align: right;\n",
              "    }\n",
              "</style>\n",
              "<table border=\"1\" class=\"dataframe\">\n",
              "  <thead>\n",
              "    <tr style=\"text-align: right;\">\n",
              "      <th></th>\n",
              "      <th>Column 1</th>\n",
              "      <th>Column 2</th>\n",
              "    </tr>\n",
              "  </thead>\n",
              "  <tbody>\n",
              "    <tr>\n",
              "      <th>2020-01-01</th>\n",
              "      <td>-0.556376</td>\n",
              "      <td>0.192525</td>\n",
              "    </tr>\n",
              "    <tr>\n",
              "      <th>2020-01-02</th>\n",
              "      <td>-0.942392</td>\n",
              "      <td>0.257169</td>\n",
              "    </tr>\n",
              "    <tr>\n",
              "      <th>2020-01-03</th>\n",
              "      <td>-0.693660</td>\n",
              "      <td>1.125571</td>\n",
              "    </tr>\n",
              "    <tr>\n",
              "      <th>2020-01-04</th>\n",
              "      <td>1.740404</td>\n",
              "      <td>-0.151502</td>\n",
              "    </tr>\n",
              "    <tr>\n",
              "      <th>2020-01-05</th>\n",
              "      <td>0.497345</td>\n",
              "      <td>-0.162508</td>\n",
              "    </tr>\n",
              "    <tr>\n",
              "      <th>2020-01-06</th>\n",
              "      <td>0.354984</td>\n",
              "      <td>0.657965</td>\n",
              "    </tr>\n",
              "    <tr>\n",
              "      <th>2020-01-07</th>\n",
              "      <td>-2.269024</td>\n",
              "      <td>-0.714651</td>\n",
              "    </tr>\n",
              "    <tr>\n",
              "      <th>2020-01-08</th>\n",
              "      <td>0.432765</td>\n",
              "      <td>-1.800327</td>\n",
              "    </tr>\n",
              "    <tr>\n",
              "      <th>2020-01-09</th>\n",
              "      <td>-0.935567</td>\n",
              "      <td>-1.682658</td>\n",
              "    </tr>\n",
              "    <tr>\n",
              "      <th>2020-01-10</th>\n",
              "      <td>1.585768</td>\n",
              "      <td>-0.059687</td>\n",
              "    </tr>\n",
              "    <tr>\n",
              "      <th>2020-01-11</th>\n",
              "      <td>0.813801</td>\n",
              "      <td>-0.011366</td>\n",
              "    </tr>\n",
              "    <tr>\n",
              "      <th>2020-01-12</th>\n",
              "      <td>0.519897</td>\n",
              "      <td>0.379924</td>\n",
              "    </tr>\n",
              "    <tr>\n",
              "      <th>2020-01-13</th>\n",
              "      <td>1.002679</td>\n",
              "      <td>-0.357996</td>\n",
              "    </tr>\n",
              "    <tr>\n",
              "      <th>2020-01-14</th>\n",
              "      <td>-1.303165</td>\n",
              "      <td>-0.831660</td>\n",
              "    </tr>\n",
              "    <tr>\n",
              "      <th>2020-01-15</th>\n",
              "      <td>-0.137819</td>\n",
              "      <td>0.790270</td>\n",
              "    </tr>\n",
              "    <tr>\n",
              "      <th>2020-01-16</th>\n",
              "      <td>1.534380</td>\n",
              "      <td>0.915169</td>\n",
              "    </tr>\n",
              "    <tr>\n",
              "      <th>2020-01-17</th>\n",
              "      <td>1.348911</td>\n",
              "      <td>-0.238892</td>\n",
              "    </tr>\n",
              "    <tr>\n",
              "      <th>2020-01-18</th>\n",
              "      <td>-0.327899</td>\n",
              "      <td>-0.186459</td>\n",
              "    </tr>\n",
              "    <tr>\n",
              "      <th>2020-01-19</th>\n",
              "      <td>-0.218960</td>\n",
              "      <td>0.861868</td>\n",
              "    </tr>\n",
              "    <tr>\n",
              "      <th>2020-01-20</th>\n",
              "      <td>1.210464</td>\n",
              "      <td>-1.890281</td>\n",
              "    </tr>\n",
              "  </tbody>\n",
              "</table>\n",
              "</div>"
            ],
            "text/plain": [
              "            Column 1  Column 2\n",
              "2020-01-01 -0.556376  0.192525\n",
              "2020-01-02 -0.942392  0.257169\n",
              "2020-01-03 -0.693660  1.125571\n",
              "2020-01-04  1.740404 -0.151502\n",
              "2020-01-05  0.497345 -0.162508\n",
              "2020-01-06  0.354984  0.657965\n",
              "2020-01-07 -2.269024 -0.714651\n",
              "2020-01-08  0.432765 -1.800327\n",
              "2020-01-09 -0.935567 -1.682658\n",
              "2020-01-10  1.585768 -0.059687\n",
              "2020-01-11  0.813801 -0.011366\n",
              "2020-01-12  0.519897  0.379924\n",
              "2020-01-13  1.002679 -0.357996\n",
              "2020-01-14 -1.303165 -0.831660\n",
              "2020-01-15 -0.137819  0.790270\n",
              "2020-01-16  1.534380  0.915169\n",
              "2020-01-17  1.348911 -0.238892\n",
              "2020-01-18 -0.327899 -0.186459\n",
              "2020-01-19 -0.218960  0.861868\n",
              "2020-01-20  1.210464 -1.890281"
            ]
          },
          "metadata": {
            "tags": []
          },
          "execution_count": 68
        }
      ]
    },
    {
      "cell_type": "code",
      "metadata": {
        "colab": {
          "base_uri": "https://localhost:8080/",
          "height": 328
        },
        "id": "VXRT8DWJcGAn",
        "outputId": "972db857-027e-4257-bc1e-3931be6c87a5"
      },
      "source": [
        "df[(df['Column 1']<0)]"
      ],
      "execution_count": null,
      "outputs": [
        {
          "output_type": "execute_result",
          "data": {
            "text/html": [
              "<div>\n",
              "<style scoped>\n",
              "    .dataframe tbody tr th:only-of-type {\n",
              "        vertical-align: middle;\n",
              "    }\n",
              "\n",
              "    .dataframe tbody tr th {\n",
              "        vertical-align: top;\n",
              "    }\n",
              "\n",
              "    .dataframe thead th {\n",
              "        text-align: right;\n",
              "    }\n",
              "</style>\n",
              "<table border=\"1\" class=\"dataframe\">\n",
              "  <thead>\n",
              "    <tr style=\"text-align: right;\">\n",
              "      <th></th>\n",
              "      <th>Column 1</th>\n",
              "      <th>Column 2</th>\n",
              "      <th>Column 3</th>\n",
              "      <th>Column 4</th>\n",
              "      <th>Column 5</th>\n",
              "    </tr>\n",
              "  </thead>\n",
              "  <tbody>\n",
              "    <tr>\n",
              "      <th>2020-01-01</th>\n",
              "      <td>-0.556376</td>\n",
              "      <td>0.192525</td>\n",
              "      <td>-1.420947</td>\n",
              "      <td>-0.416599</td>\n",
              "      <td>0.308286</td>\n",
              "    </tr>\n",
              "    <tr>\n",
              "      <th>2020-01-02</th>\n",
              "      <td>-0.942392</td>\n",
              "      <td>0.257169</td>\n",
              "      <td>-0.291252</td>\n",
              "      <td>-0.555710</td>\n",
              "      <td>-0.564209</td>\n",
              "    </tr>\n",
              "    <tr>\n",
              "      <th>2020-01-03</th>\n",
              "      <td>-0.693660</td>\n",
              "      <td>1.125571</td>\n",
              "      <td>-0.755897</td>\n",
              "      <td>-1.262317</td>\n",
              "      <td>0.018257</td>\n",
              "    </tr>\n",
              "    <tr>\n",
              "      <th>2020-01-07</th>\n",
              "      <td>-2.269024</td>\n",
              "      <td>-0.714651</td>\n",
              "      <td>-0.735229</td>\n",
              "      <td>1.123601</td>\n",
              "      <td>0.243563</td>\n",
              "    </tr>\n",
              "    <tr>\n",
              "      <th>2020-01-09</th>\n",
              "      <td>-0.935567</td>\n",
              "      <td>-1.682658</td>\n",
              "      <td>0.392478</td>\n",
              "      <td>-1.421639</td>\n",
              "      <td>-0.905545</td>\n",
              "    </tr>\n",
              "    <tr>\n",
              "      <th>2020-01-14</th>\n",
              "      <td>-1.303165</td>\n",
              "      <td>-0.831660</td>\n",
              "      <td>0.626823</td>\n",
              "      <td>-0.652674</td>\n",
              "      <td>0.613832</td>\n",
              "    </tr>\n",
              "    <tr>\n",
              "      <th>2020-01-15</th>\n",
              "      <td>-0.137819</td>\n",
              "      <td>0.790270</td>\n",
              "      <td>1.139646</td>\n",
              "      <td>0.431450</td>\n",
              "      <td>-0.741182</td>\n",
              "    </tr>\n",
              "    <tr>\n",
              "      <th>2020-01-18</th>\n",
              "      <td>-0.327899</td>\n",
              "      <td>-0.186459</td>\n",
              "      <td>-1.199229</td>\n",
              "      <td>-0.476975</td>\n",
              "      <td>-1.372362</td>\n",
              "    </tr>\n",
              "    <tr>\n",
              "      <th>2020-01-19</th>\n",
              "      <td>-0.218960</td>\n",
              "      <td>0.861868</td>\n",
              "      <td>-0.292014</td>\n",
              "      <td>0.359848</td>\n",
              "      <td>0.530437</td>\n",
              "    </tr>\n",
              "  </tbody>\n",
              "</table>\n",
              "</div>"
            ],
            "text/plain": [
              "            Column 1  Column 2  Column 3  Column 4  Column 5\n",
              "2020-01-01 -0.556376  0.192525 -1.420947 -0.416599  0.308286\n",
              "2020-01-02 -0.942392  0.257169 -0.291252 -0.555710 -0.564209\n",
              "2020-01-03 -0.693660  1.125571 -0.755897 -1.262317  0.018257\n",
              "2020-01-07 -2.269024 -0.714651 -0.735229  1.123601  0.243563\n",
              "2020-01-09 -0.935567 -1.682658  0.392478 -1.421639 -0.905545\n",
              "2020-01-14 -1.303165 -0.831660  0.626823 -0.652674  0.613832\n",
              "2020-01-15 -0.137819  0.790270  1.139646  0.431450 -0.741182\n",
              "2020-01-18 -0.327899 -0.186459 -1.199229 -0.476975 -1.372362\n",
              "2020-01-19 -0.218960  0.861868 -0.292014  0.359848  0.530437"
            ]
          },
          "metadata": {
            "tags": []
          },
          "execution_count": 82
        }
      ]
    },
    {
      "cell_type": "code",
      "metadata": {
        "colab": {
          "base_uri": "https://localhost:8080/",
          "height": 142
        },
        "id": "Y_kWvyQOaTLe",
        "outputId": "708532fc-f9fb-4f1a-ad8d-835802aa3fbf"
      },
      "source": [
        "d={'Name':['Priya','Shweta','Roshni'],'Age':[19,21,20]}\n",
        "x=pd.DataFrame(d)\n",
        "x"
      ],
      "execution_count": null,
      "outputs": [
        {
          "output_type": "execute_result",
          "data": {
            "text/html": [
              "<div>\n",
              "<style scoped>\n",
              "    .dataframe tbody tr th:only-of-type {\n",
              "        vertical-align: middle;\n",
              "    }\n",
              "\n",
              "    .dataframe tbody tr th {\n",
              "        vertical-align: top;\n",
              "    }\n",
              "\n",
              "    .dataframe thead th {\n",
              "        text-align: right;\n",
              "    }\n",
              "</style>\n",
              "<table border=\"1\" class=\"dataframe\">\n",
              "  <thead>\n",
              "    <tr style=\"text-align: right;\">\n",
              "      <th></th>\n",
              "      <th>Name</th>\n",
              "      <th>Age</th>\n",
              "    </tr>\n",
              "  </thead>\n",
              "  <tbody>\n",
              "    <tr>\n",
              "      <th>0</th>\n",
              "      <td>Priya</td>\n",
              "      <td>19</td>\n",
              "    </tr>\n",
              "    <tr>\n",
              "      <th>1</th>\n",
              "      <td>Shweta</td>\n",
              "      <td>21</td>\n",
              "    </tr>\n",
              "    <tr>\n",
              "      <th>2</th>\n",
              "      <td>Roshni</td>\n",
              "      <td>20</td>\n",
              "    </tr>\n",
              "  </tbody>\n",
              "</table>\n",
              "</div>"
            ],
            "text/plain": [
              "     Name  Age\n",
              "0   Priya   19\n",
              "1  Shweta   21\n",
              "2  Roshni   20"
            ]
          },
          "metadata": {
            "tags": []
          },
          "execution_count": 75
        }
      ]
    },
    {
      "cell_type": "code",
      "metadata": {
        "id": "KlOt-09ja1uH"
      },
      "source": [
        "x.loc[1]={'Name':'Kishan','Age':24}"
      ],
      "execution_count": null,
      "outputs": []
    },
    {
      "cell_type": "code",
      "metadata": {
        "colab": {
          "base_uri": "https://localhost:8080/",
          "height": 142
        },
        "id": "RX5O8jlFbDQ_",
        "outputId": "bf284784-0d9f-4cbf-b01d-d885dd510d2f"
      },
      "source": [
        "x"
      ],
      "execution_count": null,
      "outputs": [
        {
          "output_type": "execute_result",
          "data": {
            "text/html": [
              "<div>\n",
              "<style scoped>\n",
              "    .dataframe tbody tr th:only-of-type {\n",
              "        vertical-align: middle;\n",
              "    }\n",
              "\n",
              "    .dataframe tbody tr th {\n",
              "        vertical-align: top;\n",
              "    }\n",
              "\n",
              "    .dataframe thead th {\n",
              "        text-align: right;\n",
              "    }\n",
              "</style>\n",
              "<table border=\"1\" class=\"dataframe\">\n",
              "  <thead>\n",
              "    <tr style=\"text-align: right;\">\n",
              "      <th></th>\n",
              "      <th>Name</th>\n",
              "      <th>Age</th>\n",
              "    </tr>\n",
              "  </thead>\n",
              "  <tbody>\n",
              "    <tr>\n",
              "      <th>0</th>\n",
              "      <td>Priya</td>\n",
              "      <td>19</td>\n",
              "    </tr>\n",
              "    <tr>\n",
              "      <th>1</th>\n",
              "      <td>Kishan</td>\n",
              "      <td>24</td>\n",
              "    </tr>\n",
              "    <tr>\n",
              "      <th>2</th>\n",
              "      <td>Roshni</td>\n",
              "      <td>20</td>\n",
              "    </tr>\n",
              "  </tbody>\n",
              "</table>\n",
              "</div>"
            ],
            "text/plain": [
              "     Name Age\n",
              "0   Priya  19\n",
              "1  Kishan  24\n",
              "2  Roshni  20"
            ]
          },
          "metadata": {
            "tags": []
          },
          "execution_count": 81
        }
      ]
    },
    {
      "cell_type": "code",
      "metadata": {
        "colab": {
          "base_uri": "https://localhost:8080/",
          "height": 142
        },
        "id": "lgH2m1YTdFfd",
        "outputId": "60398004-7f81-40a8-8bb8-de953cc4838b"
      },
      "source": [
        "d1={'Name':['Priya','Shweta','Roshni'],'Age':[19,21,20]}\n",
        "df1=pd.DataFrame(d1)\n",
        "df1"
      ],
      "execution_count": null,
      "outputs": [
        {
          "output_type": "execute_result",
          "data": {
            "text/html": [
              "<div>\n",
              "<style scoped>\n",
              "    .dataframe tbody tr th:only-of-type {\n",
              "        vertical-align: middle;\n",
              "    }\n",
              "\n",
              "    .dataframe tbody tr th {\n",
              "        vertical-align: top;\n",
              "    }\n",
              "\n",
              "    .dataframe thead th {\n",
              "        text-align: right;\n",
              "    }\n",
              "</style>\n",
              "<table border=\"1\" class=\"dataframe\">\n",
              "  <thead>\n",
              "    <tr style=\"text-align: right;\">\n",
              "      <th></th>\n",
              "      <th>Name</th>\n",
              "      <th>Age</th>\n",
              "    </tr>\n",
              "  </thead>\n",
              "  <tbody>\n",
              "    <tr>\n",
              "      <th>0</th>\n",
              "      <td>Priya</td>\n",
              "      <td>19</td>\n",
              "    </tr>\n",
              "    <tr>\n",
              "      <th>1</th>\n",
              "      <td>Shweta</td>\n",
              "      <td>21</td>\n",
              "    </tr>\n",
              "    <tr>\n",
              "      <th>2</th>\n",
              "      <td>Roshni</td>\n",
              "      <td>20</td>\n",
              "    </tr>\n",
              "  </tbody>\n",
              "</table>\n",
              "</div>"
            ],
            "text/plain": [
              "     Name  Age\n",
              "0   Priya   19\n",
              "1  Shweta   21\n",
              "2  Roshni   20"
            ]
          },
          "metadata": {
            "tags": []
          },
          "execution_count": 83
        }
      ]
    },
    {
      "cell_type": "code",
      "metadata": {
        "colab": {
          "base_uri": "https://localhost:8080/",
          "height": 142
        },
        "id": "_Q47w--rdMal",
        "outputId": "41306fea-e36c-46cf-ed88-408934fa58ee"
      },
      "source": [
        "d2={'Name':['Gopi','Ishita','Isha'],'Age':[26,21,15]}\n",
        "df2=pd.DataFrame(d2)\n",
        "df2"
      ],
      "execution_count": null,
      "outputs": [
        {
          "output_type": "execute_result",
          "data": {
            "text/html": [
              "<div>\n",
              "<style scoped>\n",
              "    .dataframe tbody tr th:only-of-type {\n",
              "        vertical-align: middle;\n",
              "    }\n",
              "\n",
              "    .dataframe tbody tr th {\n",
              "        vertical-align: top;\n",
              "    }\n",
              "\n",
              "    .dataframe thead th {\n",
              "        text-align: right;\n",
              "    }\n",
              "</style>\n",
              "<table border=\"1\" class=\"dataframe\">\n",
              "  <thead>\n",
              "    <tr style=\"text-align: right;\">\n",
              "      <th></th>\n",
              "      <th>Name</th>\n",
              "      <th>Age</th>\n",
              "    </tr>\n",
              "  </thead>\n",
              "  <tbody>\n",
              "    <tr>\n",
              "      <th>0</th>\n",
              "      <td>Gopi</td>\n",
              "      <td>26</td>\n",
              "    </tr>\n",
              "    <tr>\n",
              "      <th>1</th>\n",
              "      <td>Ishita</td>\n",
              "      <td>21</td>\n",
              "    </tr>\n",
              "    <tr>\n",
              "      <th>2</th>\n",
              "      <td>Isha</td>\n",
              "      <td>15</td>\n",
              "    </tr>\n",
              "  </tbody>\n",
              "</table>\n",
              "</div>"
            ],
            "text/plain": [
              "     Name  Age\n",
              "0    Gopi   26\n",
              "1  Ishita   21\n",
              "2    Isha   15"
            ]
          },
          "metadata": {
            "tags": []
          },
          "execution_count": 84
        }
      ]
    },
    {
      "cell_type": "code",
      "metadata": {
        "colab": {
          "base_uri": "https://localhost:8080/",
          "height": 235
        },
        "id": "PPfEkh2IdXsn",
        "outputId": "8d5e8bc2-f0a7-4655-d2af-d13e52d24681"
      },
      "source": [
        "df3=pd.concat([df1,df2],axis=0)\n",
        "df3=df3.reset_index()\n",
        "df3=df3.drop(['index'],axis=1)\n",
        "df3"
      ],
      "execution_count": null,
      "outputs": [
        {
          "output_type": "execute_result",
          "data": {
            "text/html": [
              "<div>\n",
              "<style scoped>\n",
              "    .dataframe tbody tr th:only-of-type {\n",
              "        vertical-align: middle;\n",
              "    }\n",
              "\n",
              "    .dataframe tbody tr th {\n",
              "        vertical-align: top;\n",
              "    }\n",
              "\n",
              "    .dataframe thead th {\n",
              "        text-align: right;\n",
              "    }\n",
              "</style>\n",
              "<table border=\"1\" class=\"dataframe\">\n",
              "  <thead>\n",
              "    <tr style=\"text-align: right;\">\n",
              "      <th></th>\n",
              "      <th>Name</th>\n",
              "      <th>Age</th>\n",
              "    </tr>\n",
              "  </thead>\n",
              "  <tbody>\n",
              "    <tr>\n",
              "      <th>0</th>\n",
              "      <td>Priya</td>\n",
              "      <td>19</td>\n",
              "    </tr>\n",
              "    <tr>\n",
              "      <th>1</th>\n",
              "      <td>Shweta</td>\n",
              "      <td>21</td>\n",
              "    </tr>\n",
              "    <tr>\n",
              "      <th>2</th>\n",
              "      <td>Roshni</td>\n",
              "      <td>20</td>\n",
              "    </tr>\n",
              "    <tr>\n",
              "      <th>3</th>\n",
              "      <td>Gopi</td>\n",
              "      <td>26</td>\n",
              "    </tr>\n",
              "    <tr>\n",
              "      <th>4</th>\n",
              "      <td>Ishita</td>\n",
              "      <td>21</td>\n",
              "    </tr>\n",
              "    <tr>\n",
              "      <th>5</th>\n",
              "      <td>Isha</td>\n",
              "      <td>15</td>\n",
              "    </tr>\n",
              "  </tbody>\n",
              "</table>\n",
              "</div>"
            ],
            "text/plain": [
              "     Name  Age\n",
              "0   Priya   19\n",
              "1  Shweta   21\n",
              "2  Roshni   20\n",
              "3    Gopi   26\n",
              "4  Ishita   21\n",
              "5    Isha   15"
            ]
          },
          "metadata": {
            "tags": []
          },
          "execution_count": 87
        }
      ]
    },
    {
      "cell_type": "code",
      "metadata": {
        "colab": {
          "base_uri": "https://localhost:8080/",
          "height": 235
        },
        "id": "1te18jy6eGzt",
        "outputId": "08328892-3067-4bcd-9701-f7a1c03616a6"
      },
      "source": [
        "df3=df1.append(df2)\n",
        "df3=df3.reset_index()\n",
        "df3=df3.drop(['index'],axis=1)\n",
        "df3"
      ],
      "execution_count": null,
      "outputs": [
        {
          "output_type": "execute_result",
          "data": {
            "text/html": [
              "<div>\n",
              "<style scoped>\n",
              "    .dataframe tbody tr th:only-of-type {\n",
              "        vertical-align: middle;\n",
              "    }\n",
              "\n",
              "    .dataframe tbody tr th {\n",
              "        vertical-align: top;\n",
              "    }\n",
              "\n",
              "    .dataframe thead th {\n",
              "        text-align: right;\n",
              "    }\n",
              "</style>\n",
              "<table border=\"1\" class=\"dataframe\">\n",
              "  <thead>\n",
              "    <tr style=\"text-align: right;\">\n",
              "      <th></th>\n",
              "      <th>Name</th>\n",
              "      <th>Age</th>\n",
              "    </tr>\n",
              "  </thead>\n",
              "  <tbody>\n",
              "    <tr>\n",
              "      <th>0</th>\n",
              "      <td>Priya</td>\n",
              "      <td>19</td>\n",
              "    </tr>\n",
              "    <tr>\n",
              "      <th>1</th>\n",
              "      <td>Shweta</td>\n",
              "      <td>21</td>\n",
              "    </tr>\n",
              "    <tr>\n",
              "      <th>2</th>\n",
              "      <td>Roshni</td>\n",
              "      <td>20</td>\n",
              "    </tr>\n",
              "    <tr>\n",
              "      <th>3</th>\n",
              "      <td>Gopi</td>\n",
              "      <td>26</td>\n",
              "    </tr>\n",
              "    <tr>\n",
              "      <th>4</th>\n",
              "      <td>Ishita</td>\n",
              "      <td>21</td>\n",
              "    </tr>\n",
              "    <tr>\n",
              "      <th>5</th>\n",
              "      <td>Isha</td>\n",
              "      <td>15</td>\n",
              "    </tr>\n",
              "  </tbody>\n",
              "</table>\n",
              "</div>"
            ],
            "text/plain": [
              "     Name  Age\n",
              "0   Priya   19\n",
              "1  Shweta   21\n",
              "2  Roshni   20\n",
              "3    Gopi   26\n",
              "4  Ishita   21\n",
              "5    Isha   15"
            ]
          },
          "metadata": {
            "tags": []
          },
          "execution_count": 88
        }
      ]
    },
    {
      "cell_type": "code",
      "metadata": {
        "colab": {
          "base_uri": "https://localhost:8080/",
          "height": 142
        },
        "id": "i8pBTbwcdopp",
        "outputId": "01adc71f-2d58-4678-8f5b-3e837e701549"
      },
      "source": [
        "d3={'Gender':['F','F','F'],'Education':['Graduate','Non-Graduate','Graduate']}\n",
        "df3=pd.DataFrame(d3)\n",
        "df3"
      ],
      "execution_count": null,
      "outputs": [
        {
          "output_type": "execute_result",
          "data": {
            "text/html": [
              "<div>\n",
              "<style scoped>\n",
              "    .dataframe tbody tr th:only-of-type {\n",
              "        vertical-align: middle;\n",
              "    }\n",
              "\n",
              "    .dataframe tbody tr th {\n",
              "        vertical-align: top;\n",
              "    }\n",
              "\n",
              "    .dataframe thead th {\n",
              "        text-align: right;\n",
              "    }\n",
              "</style>\n",
              "<table border=\"1\" class=\"dataframe\">\n",
              "  <thead>\n",
              "    <tr style=\"text-align: right;\">\n",
              "      <th></th>\n",
              "      <th>Gender</th>\n",
              "      <th>Education</th>\n",
              "    </tr>\n",
              "  </thead>\n",
              "  <tbody>\n",
              "    <tr>\n",
              "      <th>0</th>\n",
              "      <td>F</td>\n",
              "      <td>Graduate</td>\n",
              "    </tr>\n",
              "    <tr>\n",
              "      <th>1</th>\n",
              "      <td>F</td>\n",
              "      <td>Non-Graduate</td>\n",
              "    </tr>\n",
              "    <tr>\n",
              "      <th>2</th>\n",
              "      <td>F</td>\n",
              "      <td>Graduate</td>\n",
              "    </tr>\n",
              "  </tbody>\n",
              "</table>\n",
              "</div>"
            ],
            "text/plain": [
              "  Gender     Education\n",
              "0      F      Graduate\n",
              "1      F  Non-Graduate\n",
              "2      F      Graduate"
            ]
          },
          "metadata": {
            "tags": []
          },
          "execution_count": 92
        }
      ]
    },
    {
      "cell_type": "code",
      "metadata": {
        "colab": {
          "base_uri": "https://localhost:8080/",
          "height": 142
        },
        "id": "5B2Gy0LIfOSy",
        "outputId": "f1a783b9-7894-4259-cb73-bcaa4d607850"
      },
      "source": [
        "df4=pd.concat([df1,df3],axis=1)\n",
        "# df4=df4.reset_index()\n",
        "# df4=df4.drop(['index'],axis=1)\n",
        "df4"
      ],
      "execution_count": null,
      "outputs": [
        {
          "output_type": "execute_result",
          "data": {
            "text/html": [
              "<div>\n",
              "<style scoped>\n",
              "    .dataframe tbody tr th:only-of-type {\n",
              "        vertical-align: middle;\n",
              "    }\n",
              "\n",
              "    .dataframe tbody tr th {\n",
              "        vertical-align: top;\n",
              "    }\n",
              "\n",
              "    .dataframe thead th {\n",
              "        text-align: right;\n",
              "    }\n",
              "</style>\n",
              "<table border=\"1\" class=\"dataframe\">\n",
              "  <thead>\n",
              "    <tr style=\"text-align: right;\">\n",
              "      <th></th>\n",
              "      <th>Name</th>\n",
              "      <th>Age</th>\n",
              "      <th>Gender</th>\n",
              "      <th>Education</th>\n",
              "    </tr>\n",
              "  </thead>\n",
              "  <tbody>\n",
              "    <tr>\n",
              "      <th>0</th>\n",
              "      <td>Priya</td>\n",
              "      <td>19</td>\n",
              "      <td>F</td>\n",
              "      <td>Graduate</td>\n",
              "    </tr>\n",
              "    <tr>\n",
              "      <th>1</th>\n",
              "      <td>Shweta</td>\n",
              "      <td>21</td>\n",
              "      <td>F</td>\n",
              "      <td>Non-Graduate</td>\n",
              "    </tr>\n",
              "    <tr>\n",
              "      <th>2</th>\n",
              "      <td>Roshni</td>\n",
              "      <td>20</td>\n",
              "      <td>F</td>\n",
              "      <td>Graduate</td>\n",
              "    </tr>\n",
              "  </tbody>\n",
              "</table>\n",
              "</div>"
            ],
            "text/plain": [
              "     Name  Age Gender     Education\n",
              "0   Priya   19      F      Graduate\n",
              "1  Shweta   21      F  Non-Graduate\n",
              "2  Roshni   20      F      Graduate"
            ]
          },
          "metadata": {
            "tags": []
          },
          "execution_count": 94
        }
      ]
    }
  ]
}